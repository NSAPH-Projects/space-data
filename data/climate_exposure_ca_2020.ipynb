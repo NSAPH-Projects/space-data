{
 "cells": [
  {
   "cell_type": "markdown",
   "id": "54a55a0b-1634-4564-b19b-f6f6c45523d6",
   "metadata": {},
   "source": [
    "# Climate Exposure Dataset\n",
    "\n",
    "- Contains information on climate exposure variables like temperature, humidity, smoke PM\n",
    "- Contains information on population counts and population density\n",
    "- Cover the year 2020\n",
    "- Spatial coverage: California (census tract)"
   ]
  },
  {
   "cell_type": "code",
   "execution_count": 1,
   "id": "2ab5e13c-d93f-4541-bc74-d59603feacf8",
   "metadata": {
    "tags": []
   },
   "outputs": [],
   "source": [
    "import numpy as np\n",
    "import pandas as pd\n",
    "import xarray as xr\n",
    "import seaborn as sns\n",
    "import geopandas as gpd"
   ]
  },
  {
   "cell_type": "code",
   "execution_count": 2,
   "id": "e5bde496-9522-45e9-a5d2-964fa6fbaf6f",
   "metadata": {
    "tags": []
   },
   "outputs": [],
   "source": [
    "path = \"../data/\""
   ]
  },
  {
   "cell_type": "code",
   "execution_count": 3,
   "id": "b608e32a-9ca7-4b18-aa31-8aa8f854cd95",
   "metadata": {
    "tags": []
   },
   "outputs": [],
   "source": [
    "files = [\"MinTemp_2006_2021_Cali.nc\",            \n",
    "            \"RelHum_2006_2021_Cali.nc\",\n",
    "            \"MaxTemp_2006_2021_Cali.nc\",\n",
    "            \"smoke_2006_21_cali.nc\"]"
   ]
  },
  {
   "cell_type": "code",
   "execution_count": 4,
   "id": "64052cd3-5a4b-41ae-be46-930b54d2dcc1",
   "metadata": {
    "tags": []
   },
   "outputs": [],
   "source": [
    "df = pd.read_parquet(path + \"outputs/esri_tmin_tmax_pm25_merged.parquet\")"
   ]
  },
  {
   "cell_type": "code",
   "execution_count": 5,
   "id": "c826fbda-291f-41bc-adf5-2b49dff01f08",
   "metadata": {
    "tags": []
   },
   "outputs": [
    {
     "data": {
      "text/html": [
       "<div>\n",
       "<style scoped>\n",
       "    .dataframe tbody tr th:only-of-type {\n",
       "        vertical-align: middle;\n",
       "    }\n",
       "\n",
       "    .dataframe tbody tr th {\n",
       "        vertical-align: top;\n",
       "    }\n",
       "\n",
       "    .dataframe thead th {\n",
       "        text-align: right;\n",
       "    }\n",
       "</style>\n",
       "<table border=\"1\" class=\"dataframe\">\n",
       "  <thead>\n",
       "    <tr style=\"text-align: right;\">\n",
       "      <th></th>\n",
       "      <th></th>\n",
       "      <th>tmax</th>\n",
       "      <th>tmin</th>\n",
       "      <th>pm25</th>\n",
       "    </tr>\n",
       "    <tr>\n",
       "      <th>time</th>\n",
       "      <th>FIPS</th>\n",
       "      <th></th>\n",
       "      <th></th>\n",
       "      <th></th>\n",
       "    </tr>\n",
       "  </thead>\n",
       "  <tbody>\n",
       "    <tr>\n",
       "      <th rowspan=\"5\" valign=\"top\">2005-12-31</th>\n",
       "      <th>1765.0</th>\n",
       "      <td>13.350000</td>\n",
       "      <td>7.850000</td>\n",
       "      <td>4.986000</td>\n",
       "    </tr>\n",
       "    <tr>\n",
       "      <th>1766.0</th>\n",
       "      <td>14.950006</td>\n",
       "      <td>8.249994</td>\n",
       "      <td>5.500000</td>\n",
       "    </tr>\n",
       "    <tr>\n",
       "      <th>1767.0</th>\n",
       "      <td>14.950006</td>\n",
       "      <td>8.249994</td>\n",
       "      <td>5.486667</td>\n",
       "    </tr>\n",
       "    <tr>\n",
       "      <th>1768.0</th>\n",
       "      <td>14.950006</td>\n",
       "      <td>8.249994</td>\n",
       "      <td>5.437778</td>\n",
       "    </tr>\n",
       "    <tr>\n",
       "      <th>1769.0</th>\n",
       "      <td>14.950006</td>\n",
       "      <td>8.249994</td>\n",
       "      <td>5.480000</td>\n",
       "    </tr>\n",
       "  </tbody>\n",
       "</table>\n",
       "</div>"
      ],
      "text/plain": [
       "                        tmax      tmin      pm25\n",
       "time       FIPS                                 \n",
       "2005-12-31 1765.0  13.350000  7.850000  4.986000\n",
       "           1766.0  14.950006  8.249994  5.500000\n",
       "           1767.0  14.950006  8.249994  5.486667\n",
       "           1768.0  14.950006  8.249994  5.437778\n",
       "           1769.0  14.950006  8.249994  5.480000"
      ]
     },
     "execution_count": 5,
     "metadata": {},
     "output_type": "execute_result"
    }
   ],
   "source": [
    "df.head()"
   ]
  },
  {
   "cell_type": "code",
   "execution_count": 6,
   "id": "e71fb8cc-5814-4a38-a0d6-541731825740",
   "metadata": {},
   "outputs": [],
   "source": [
    "rhum = xr.open_dataset(path + \"data/esri/\"+ files[1])"
   ]
  },
  {
   "cell_type": "code",
   "execution_count": 7,
   "id": "51482f2b-265b-4dff-b235-80fd4170999a",
   "metadata": {
    "tags": []
   },
   "outputs": [],
   "source": [
    "rhum = rhum[['FIPS','RELATIVE_HUMIDITY_NONE_SPATIAL_NEIGHBORS']].to_dataframe()\n",
    "rhum = rhum.drop(columns=['lat', 'lon'])\n",
    "rhum = rhum.groupby(['time','FIPS']).first()\n",
    "\n",
    "df_ = df.join(rhum, rsuffix= \"_rhum\")\n",
    "df_ = df_.rename(columns={\"RELATIVE_HUMIDITY_NONE_SPATIAL_NEIGHBORS\":\"rhum\"})"
   ]
  },
  {
   "cell_type": "code",
   "execution_count": 8,
   "id": "e0ddc838-eef9-427e-b06c-81a84faff1cf",
   "metadata": {
    "tags": []
   },
   "outputs": [
    {
     "data": {
      "text/html": [
       "<div>\n",
       "<style scoped>\n",
       "    .dataframe tbody tr th:only-of-type {\n",
       "        vertical-align: middle;\n",
       "    }\n",
       "\n",
       "    .dataframe tbody tr th {\n",
       "        vertical-align: top;\n",
       "    }\n",
       "\n",
       "    .dataframe thead th {\n",
       "        text-align: right;\n",
       "    }\n",
       "</style>\n",
       "<table border=\"1\" class=\"dataframe\">\n",
       "  <thead>\n",
       "    <tr style=\"text-align: right;\">\n",
       "      <th></th>\n",
       "      <th></th>\n",
       "      <th>tmax</th>\n",
       "      <th>tmin</th>\n",
       "      <th>pm25</th>\n",
       "      <th>rhum</th>\n",
       "    </tr>\n",
       "    <tr>\n",
       "      <th>time</th>\n",
       "      <th>FIPS</th>\n",
       "      <th></th>\n",
       "      <th></th>\n",
       "      <th></th>\n",
       "      <th></th>\n",
       "    </tr>\n",
       "  </thead>\n",
       "  <tbody>\n",
       "    <tr>\n",
       "      <th rowspan=\"5\" valign=\"top\">2005-12-31</th>\n",
       "      <th>1765.0</th>\n",
       "      <td>13.350000</td>\n",
       "      <td>7.850000</td>\n",
       "      <td>4.986000</td>\n",
       "      <td>88.400002</td>\n",
       "    </tr>\n",
       "    <tr>\n",
       "      <th>1766.0</th>\n",
       "      <td>14.950006</td>\n",
       "      <td>8.249994</td>\n",
       "      <td>5.500000</td>\n",
       "      <td>91.400002</td>\n",
       "    </tr>\n",
       "    <tr>\n",
       "      <th>1767.0</th>\n",
       "      <td>14.950006</td>\n",
       "      <td>8.249994</td>\n",
       "      <td>5.486667</td>\n",
       "      <td>91.400002</td>\n",
       "    </tr>\n",
       "    <tr>\n",
       "      <th>1768.0</th>\n",
       "      <td>14.950006</td>\n",
       "      <td>8.249994</td>\n",
       "      <td>5.437778</td>\n",
       "      <td>91.400002</td>\n",
       "    </tr>\n",
       "    <tr>\n",
       "      <th>1769.0</th>\n",
       "      <td>14.950006</td>\n",
       "      <td>8.249994</td>\n",
       "      <td>5.480000</td>\n",
       "      <td>91.400002</td>\n",
       "    </tr>\n",
       "  </tbody>\n",
       "</table>\n",
       "</div>"
      ],
      "text/plain": [
       "                        tmax      tmin      pm25       rhum\n",
       "time       FIPS                                            \n",
       "2005-12-31 1765.0  13.350000  7.850000  4.986000  88.400002\n",
       "           1766.0  14.950006  8.249994  5.500000  91.400002\n",
       "           1767.0  14.950006  8.249994  5.486667  91.400002\n",
       "           1768.0  14.950006  8.249994  5.437778  91.400002\n",
       "           1769.0  14.950006  8.249994  5.480000  91.400002"
      ]
     },
     "execution_count": 8,
     "metadata": {},
     "output_type": "execute_result"
    }
   ],
   "source": [
    "df_.head()"
   ]
  },
  {
   "cell_type": "code",
   "execution_count": 14,
   "id": "a823aec5-83de-4ac6-8b33-47b007c6ac81",
   "metadata": {
    "tags": []
   },
   "outputs": [],
   "source": [
    "df = df_.reset_index()"
   ]
  },
  {
   "cell_type": "code",
   "execution_count": 15,
   "id": "15b5b50a-4298-4ac0-8596-1d0ecd529300",
   "metadata": {
    "tags": []
   },
   "outputs": [],
   "source": [
    "df.to_parquet(\"exposure_per_fips_time.parquet\")"
   ]
  },
  {
   "cell_type": "code",
   "execution_count": 37,
   "id": "6a1276e2-7d2e-4696-bdac-887efee1a9f0",
   "metadata": {
    "tags": []
   },
   "outputs": [
    {
     "data": {
      "text/html": [
       "<div>\n",
       "<style scoped>\n",
       "    .dataframe tbody tr th:only-of-type {\n",
       "        vertical-align: middle;\n",
       "    }\n",
       "\n",
       "    .dataframe tbody tr th {\n",
       "        vertical-align: top;\n",
       "    }\n",
       "\n",
       "    .dataframe thead th {\n",
       "        text-align: right;\n",
       "    }\n",
       "</style>\n",
       "<table border=\"1\" class=\"dataframe\">\n",
       "  <thead>\n",
       "    <tr style=\"text-align: right;\">\n",
       "      <th></th>\n",
       "      <th>time</th>\n",
       "      <th>FIPS</th>\n",
       "      <th>tmax</th>\n",
       "      <th>tmin</th>\n",
       "      <th>pm25</th>\n",
       "      <th>rhum</th>\n",
       "    </tr>\n",
       "  </thead>\n",
       "  <tbody>\n",
       "    <tr>\n",
       "      <th>0</th>\n",
       "      <td>2005-12-31</td>\n",
       "      <td>1765.0</td>\n",
       "      <td>13.350000</td>\n",
       "      <td>7.850000</td>\n",
       "      <td>4.986000</td>\n",
       "      <td>88.400002</td>\n",
       "    </tr>\n",
       "    <tr>\n",
       "      <th>1</th>\n",
       "      <td>2005-12-31</td>\n",
       "      <td>1766.0</td>\n",
       "      <td>14.950006</td>\n",
       "      <td>8.249994</td>\n",
       "      <td>5.500000</td>\n",
       "      <td>91.400002</td>\n",
       "    </tr>\n",
       "    <tr>\n",
       "      <th>2</th>\n",
       "      <td>2005-12-31</td>\n",
       "      <td>1767.0</td>\n",
       "      <td>14.950006</td>\n",
       "      <td>8.249994</td>\n",
       "      <td>5.486667</td>\n",
       "      <td>91.400002</td>\n",
       "    </tr>\n",
       "    <tr>\n",
       "      <th>3</th>\n",
       "      <td>2005-12-31</td>\n",
       "      <td>1768.0</td>\n",
       "      <td>14.950006</td>\n",
       "      <td>8.249994</td>\n",
       "      <td>5.437778</td>\n",
       "      <td>91.400002</td>\n",
       "    </tr>\n",
       "    <tr>\n",
       "      <th>4</th>\n",
       "      <td>2005-12-31</td>\n",
       "      <td>1769.0</td>\n",
       "      <td>14.950006</td>\n",
       "      <td>8.249994</td>\n",
       "      <td>5.480000</td>\n",
       "      <td>91.400002</td>\n",
       "    </tr>\n",
       "  </tbody>\n",
       "</table>\n",
       "</div>"
      ],
      "text/plain": [
       "        time    FIPS       tmax      tmin      pm25       rhum\n",
       "0 2005-12-31  1765.0  13.350000  7.850000  4.986000  88.400002\n",
       "1 2005-12-31  1766.0  14.950006  8.249994  5.500000  91.400002\n",
       "2 2005-12-31  1767.0  14.950006  8.249994  5.486667  91.400002\n",
       "3 2005-12-31  1768.0  14.950006  8.249994  5.437778  91.400002\n",
       "4 2005-12-31  1769.0  14.950006  8.249994  5.480000  91.400002"
      ]
     },
     "execution_count": 37,
     "metadata": {},
     "output_type": "execute_result"
    }
   ],
   "source": [
    "df.head()"
   ]
  },
  {
   "cell_type": "code",
   "execution_count": 38,
   "id": "72cc88ed-e21f-4a0a-b06d-a82f9a29a329",
   "metadata": {
    "tags": []
   },
   "outputs": [],
   "source": [
    "df = df[df[\"time\"].dt.year == 2020]"
   ]
  },
  {
   "cell_type": "code",
   "execution_count": 39,
   "id": "a367c44b-08ca-4d18-9811-e0e7eefbd8fb",
   "metadata": {
    "tags": []
   },
   "outputs": [],
   "source": [
    "df = df.drop(columns=\"pm25\")"
   ]
  },
  {
   "cell_type": "markdown",
   "id": "92313205-688f-42f9-a0fc-43aca6fdb2e1",
   "metadata": {},
   "source": [
    "## Add population count and density"
   ]
  },
  {
   "cell_type": "code",
   "execution_count": 40,
   "id": "af9f5481-558c-494b-b9b3-1756c70dc708",
   "metadata": {
    "tags": []
   },
   "outputs": [],
   "source": [
    "df.FIPS = df.FIPS.astype(int)"
   ]
  },
  {
   "cell_type": "code",
   "execution_count": 42,
   "id": "9e0557d7-5bb5-4414-b69b-79adf8038c94",
   "metadata": {
    "tags": []
   },
   "outputs": [],
   "source": [
    "gdf = gpd.read_file(\"../data/esri/FIPSMapping.gdb\")\n",
    "gdf[\"FIPS_1\"] = gdf.FIPS_1.astype(int)"
   ]
  },
  {
   "cell_type": "code",
   "execution_count": 43,
   "id": "1f1b2739-caa0-4c09-803d-9b146677de91",
   "metadata": {
    "tags": []
   },
   "outputs": [],
   "source": [
    "df = df.merge(gdf, left_on=\"FIPS\", right_on=\"FIPS\")"
   ]
  },
  {
   "cell_type": "code",
   "execution_count": 46,
   "id": "56c7c3e4-9fa7-4ffb-9f9a-92bff2fd587f",
   "metadata": {
    "tags": []
   },
   "outputs": [],
   "source": [
    "pop = pd.read_csv(\n",
    "    \"../data/esri/crosswalk_ana/FIPSMapping_gdb_censustract_2020_ca.csv.csv\",\n",
    "    usecols=[\"FIPS\", \"POPULATION_2020\", \"POP20_SQMI\"],\n",
    ")"
   ]
  },
  {
   "cell_type": "code",
   "execution_count": 48,
   "id": "a0ba278a-f99e-4564-9f74-6361627dc1c4",
   "metadata": {
    "tags": []
   },
   "outputs": [],
   "source": [
    "df = df.merge(pop, left_on=\"FIPS_1\", right_on=\"FIPS\")"
   ]
  },
  {
   "cell_type": "code",
   "execution_count": 50,
   "id": "8d997c6a-ca33-4c43-9dcb-4ccd5d1b12d8",
   "metadata": {
    "tags": []
   },
   "outputs": [
    {
     "data": {
      "text/plain": [
       "Index(['time', 'FIPS_x', 'tmax', 'tmin', 'rhum', 'FIPS_1', 'Shape_Length',\n",
       "       'Shape_Area', 'geometry', 'FIPS_y', 'POPULATION_2020', 'POP20_SQMI'],\n",
       "      dtype='object')"
      ]
     },
     "execution_count": 50,
     "metadata": {},
     "output_type": "execute_result"
    }
   ],
   "source": [
    "df.columns"
   ]
  },
  {
   "cell_type": "code",
   "execution_count": 51,
   "id": "2d294d92-f46f-4d08-aafe-b3c7eebae36b",
   "metadata": {
    "tags": []
   },
   "outputs": [],
   "source": [
    "df = df.drop(columns=['FIPS_x', 'Shape_Length', 'Shape_Area', 'FIPS_y'])"
   ]
  },
  {
   "cell_type": "code",
   "execution_count": 58,
   "id": "6f43a99f-7b5f-4b1a-bc5b-b6c9bd6bdf99",
   "metadata": {
    "tags": []
   },
   "outputs": [
    {
     "data": {
      "text/plain": [
       "3174318"
      ]
     },
     "execution_count": 58,
     "metadata": {},
     "output_type": "execute_result"
    }
   ],
   "source": [
    "len(df)"
   ]
  },
  {
   "cell_type": "markdown",
   "id": "47312f1e-58eb-401f-b8c4-89cb9e880672",
   "metadata": {},
   "source": [
    "## Add wildfire smoke PM2.5"
   ]
  },
  {
   "cell_type": "code",
   "execution_count": 59,
   "id": "489612ce-3fe1-41c5-83c4-82419f5e8534",
   "metadata": {
    "tags": []
   },
   "outputs": [
    {
     "data": {
      "text/plain": [
       "3341214"
      ]
     },
     "execution_count": 59,
     "metadata": {},
     "output_type": "execute_result"
    }
   ],
   "source": [
    "len(pspm25)"
   ]
  },
  {
   "cell_type": "code",
   "execution_count": 55,
   "id": "f70f64d9-71b2-4a07-bcec-b4f708a67cca",
   "metadata": {
    "tags": []
   },
   "outputs": [],
   "source": [
    "pspm25 = pd.read_csv(\"../data/smoke_pm/smoke_pm_2020.csv\")"
   ]
  },
  {
   "cell_type": "code",
   "execution_count": 60,
   "id": "de5002fd-41c0-4b69-8420-c4b8c0db67a6",
   "metadata": {
    "tags": []
   },
   "outputs": [],
   "source": [
    "pspm25['date'] = pd.to_datetime(pspm25['date'])"
   ]
  },
  {
   "cell_type": "code",
   "execution_count": 61,
   "id": "504b9089-cc3f-4895-8e23-1f669abbf1e1",
   "metadata": {
    "tags": []
   },
   "outputs": [
    {
     "data": {
      "text/html": [
       "<div>\n",
       "<style scoped>\n",
       "    .dataframe tbody tr th:only-of-type {\n",
       "        vertical-align: middle;\n",
       "    }\n",
       "\n",
       "    .dataframe tbody tr th {\n",
       "        vertical-align: top;\n",
       "    }\n",
       "\n",
       "    .dataframe thead th {\n",
       "        text-align: right;\n",
       "    }\n",
       "</style>\n",
       "<table border=\"1\" class=\"dataframe\">\n",
       "  <thead>\n",
       "    <tr style=\"text-align: right;\">\n",
       "      <th></th>\n",
       "      <th>GEOID</th>\n",
       "      <th>smoke_pm</th>\n",
       "      <th>date</th>\n",
       "    </tr>\n",
       "  </thead>\n",
       "  <tbody>\n",
       "    <tr>\n",
       "      <th>0</th>\n",
       "      <td>6001400100</td>\n",
       "      <td>0.0</td>\n",
       "      <td>2020-01-01</td>\n",
       "    </tr>\n",
       "    <tr>\n",
       "      <th>1</th>\n",
       "      <td>6001400200</td>\n",
       "      <td>0.0</td>\n",
       "      <td>2020-01-01</td>\n",
       "    </tr>\n",
       "    <tr>\n",
       "      <th>2</th>\n",
       "      <td>6001400300</td>\n",
       "      <td>0.0</td>\n",
       "      <td>2020-01-01</td>\n",
       "    </tr>\n",
       "    <tr>\n",
       "      <th>3</th>\n",
       "      <td>6001400400</td>\n",
       "      <td>0.0</td>\n",
       "      <td>2020-01-01</td>\n",
       "    </tr>\n",
       "    <tr>\n",
       "      <th>4</th>\n",
       "      <td>6001400500</td>\n",
       "      <td>0.0</td>\n",
       "      <td>2020-01-01</td>\n",
       "    </tr>\n",
       "  </tbody>\n",
       "</table>\n",
       "</div>"
      ],
      "text/plain": [
       "        GEOID  smoke_pm       date\n",
       "0  6001400100       0.0 2020-01-01\n",
       "1  6001400200       0.0 2020-01-01\n",
       "2  6001400300       0.0 2020-01-01\n",
       "3  6001400400       0.0 2020-01-01\n",
       "4  6001400500       0.0 2020-01-01"
      ]
     },
     "execution_count": 61,
     "metadata": {},
     "output_type": "execute_result"
    }
   ],
   "source": [
    "pspm25.head()"
   ]
  },
  {
   "cell_type": "code",
   "execution_count": 65,
   "id": "fef7ab5d-2ebc-41b8-bf04-95d4d1996f3c",
   "metadata": {
    "tags": []
   },
   "outputs": [],
   "source": [
    "df = df.merge(pspm25, right_on=['GEOID',\"date\"], left_on=['FIPS_1',\"time\"])"
   ]
  },
  {
   "cell_type": "markdown",
   "id": "92412547-5b9b-426f-b00a-ef3d644e688b",
   "metadata": {},
   "source": [
    "## Get avg summer month values"
   ]
  },
  {
   "cell_type": "code",
   "execution_count": 67,
   "id": "447b53b1-e874-478e-825c-ebf1e80ae19e",
   "metadata": {
    "tags": []
   },
   "outputs": [],
   "source": [
    "df = df.drop(columns=['FIPS_1', 'date'])"
   ]
  },
  {
   "cell_type": "code",
   "execution_count": 69,
   "id": "52d82845-48f4-48c6-aa8e-b84f7fb28b6b",
   "metadata": {
    "tags": []
   },
   "outputs": [],
   "source": [
    "df['month'] = df['time'].dt.month\n",
    "\n",
    "# Function to calculate the monthly averages for each variable\n",
    "def calculate_monthly_averages(df, variable):\n",
    "    grouped = df.groupby(['GEOID', 'month'])[variable].mean().reset_index()\n",
    "    pivoted = grouped.pivot_table(index='GEOID', columns='month', values=variable)\n",
    "    pivoted = pivoted.rename(columns={6:\"jun\", 7:\"jul\", 8:\"aug\", 9:\"sep\", 10:\"oct\"})\n",
    "    pivoted = pivoted.drop(columns=[1,2,3,4,5,11,12])\n",
    "    pivoted.columns = [f'avg_{variable}_{month}' for month in ['jun', 'jul', 'aug', 'sep', 'oct']]\n",
    "    return pivoted\n"
   ]
  },
  {
   "cell_type": "code",
   "execution_count": 71,
   "id": "78a2002a-64fb-4026-9ed4-fa87f85c48f3",
   "metadata": {
    "tags": []
   },
   "outputs": [],
   "source": [
    "tmin_monthly = calculate_monthly_averages(df, 'tmin')\n",
    "tmax_monthly = calculate_monthly_averages(df, 'tmax')\n",
    "rhum_monthly = calculate_monthly_averages(df, 'rhum')\n",
    "smokepm_monthly = calculate_monthly_averages(df, 'smoke_pm')\n",
    "\n",
    "result = pd.concat([tmin_monthly, tmax_monthly, rhum_monthly, smokepm_monthly], axis=1)\n",
    "result.reset_index(inplace=True)"
   ]
  },
  {
   "cell_type": "code",
   "execution_count": 72,
   "id": "e3f5f63e-a4c3-4702-9074-abd5d73ab565",
   "metadata": {
    "tags": []
   },
   "outputs": [
    {
     "data": {
      "text/html": [
       "<div>\n",
       "<style scoped>\n",
       "    .dataframe tbody tr th:only-of-type {\n",
       "        vertical-align: middle;\n",
       "    }\n",
       "\n",
       "    .dataframe tbody tr th {\n",
       "        vertical-align: top;\n",
       "    }\n",
       "\n",
       "    .dataframe thead th {\n",
       "        text-align: right;\n",
       "    }\n",
       "</style>\n",
       "<table border=\"1\" class=\"dataframe\">\n",
       "  <thead>\n",
       "    <tr style=\"text-align: right;\">\n",
       "      <th></th>\n",
       "      <th>GEOID</th>\n",
       "      <th>tmin_jun_avg</th>\n",
       "      <th>tmin_jul_avg</th>\n",
       "      <th>tmin_aug_avg</th>\n",
       "      <th>tmin_sep_avg</th>\n",
       "      <th>tmin_oct_avg</th>\n",
       "      <th>tmax_jun_avg</th>\n",
       "      <th>tmax_jul_avg</th>\n",
       "      <th>tmax_aug_avg</th>\n",
       "      <th>tmax_sep_avg</th>\n",
       "      <th>...</th>\n",
       "      <th>rhum_jun_avg</th>\n",
       "      <th>rhum_jul_avg</th>\n",
       "      <th>rhum_aug_avg</th>\n",
       "      <th>rhum_sep_avg</th>\n",
       "      <th>rhum_oct_avg</th>\n",
       "      <th>smoke_pm_jun_avg</th>\n",
       "      <th>smoke_pm_jul_avg</th>\n",
       "      <th>smoke_pm_aug_avg</th>\n",
       "      <th>smoke_pm_sep_avg</th>\n",
       "      <th>smoke_pm_oct_avg</th>\n",
       "    </tr>\n",
       "  </thead>\n",
       "  <tbody>\n",
       "    <tr>\n",
       "      <th>0</th>\n",
       "      <td>6001400100</td>\n",
       "      <td>11.860003</td>\n",
       "      <td>11.801613</td>\n",
       "      <td>14.837099</td>\n",
       "      <td>15.480001</td>\n",
       "      <td>15.253225</td>\n",
       "      <td>24.040000</td>\n",
       "      <td>23.924194</td>\n",
       "      <td>26.943547</td>\n",
       "      <td>27.180002</td>\n",
       "      <td>...</td>\n",
       "      <td>78.096667</td>\n",
       "      <td>84.36129</td>\n",
       "      <td>77.332258</td>\n",
       "      <td>71.410000</td>\n",
       "      <td>55.306452</td>\n",
       "      <td>0.0</td>\n",
       "      <td>0.133076</td>\n",
       "      <td>6.670296</td>\n",
       "      <td>25.23939</td>\n",
       "      <td>5.944235</td>\n",
       "    </tr>\n",
       "    <tr>\n",
       "      <th>1</th>\n",
       "      <td>6001400200</td>\n",
       "      <td>12.723333</td>\n",
       "      <td>12.966127</td>\n",
       "      <td>15.201613</td>\n",
       "      <td>15.856664</td>\n",
       "      <td>14.656451</td>\n",
       "      <td>23.176668</td>\n",
       "      <td>22.333869</td>\n",
       "      <td>23.956451</td>\n",
       "      <td>26.169998</td>\n",
       "      <td>...</td>\n",
       "      <td>79.640000</td>\n",
       "      <td>84.20000</td>\n",
       "      <td>80.367742</td>\n",
       "      <td>74.666667</td>\n",
       "      <td>62.900000</td>\n",
       "      <td>0.0</td>\n",
       "      <td>0.145010</td>\n",
       "      <td>6.921538</td>\n",
       "      <td>25.34102</td>\n",
       "      <td>6.179484</td>\n",
       "    </tr>\n",
       "    <tr>\n",
       "      <th>2</th>\n",
       "      <td>6001400300</td>\n",
       "      <td>12.723333</td>\n",
       "      <td>12.966127</td>\n",
       "      <td>15.201613</td>\n",
       "      <td>15.856664</td>\n",
       "      <td>14.656451</td>\n",
       "      <td>23.176668</td>\n",
       "      <td>22.333869</td>\n",
       "      <td>23.956451</td>\n",
       "      <td>26.169998</td>\n",
       "      <td>...</td>\n",
       "      <td>79.640000</td>\n",
       "      <td>84.20000</td>\n",
       "      <td>80.367742</td>\n",
       "      <td>74.666667</td>\n",
       "      <td>62.900000</td>\n",
       "      <td>0.0</td>\n",
       "      <td>0.145010</td>\n",
       "      <td>6.921538</td>\n",
       "      <td>25.34102</td>\n",
       "      <td>6.179484</td>\n",
       "    </tr>\n",
       "    <tr>\n",
       "      <th>3</th>\n",
       "      <td>6001400400</td>\n",
       "      <td>12.723333</td>\n",
       "      <td>12.966127</td>\n",
       "      <td>15.201613</td>\n",
       "      <td>15.856664</td>\n",
       "      <td>14.656451</td>\n",
       "      <td>23.176668</td>\n",
       "      <td>22.333869</td>\n",
       "      <td>23.956451</td>\n",
       "      <td>26.169998</td>\n",
       "      <td>...</td>\n",
       "      <td>79.640000</td>\n",
       "      <td>84.20000</td>\n",
       "      <td>80.367742</td>\n",
       "      <td>74.666667</td>\n",
       "      <td>62.900000</td>\n",
       "      <td>0.0</td>\n",
       "      <td>0.145010</td>\n",
       "      <td>6.921538</td>\n",
       "      <td>25.34102</td>\n",
       "      <td>6.179484</td>\n",
       "    </tr>\n",
       "    <tr>\n",
       "      <th>4</th>\n",
       "      <td>6001400500</td>\n",
       "      <td>12.723333</td>\n",
       "      <td>12.966127</td>\n",
       "      <td>15.201613</td>\n",
       "      <td>15.856664</td>\n",
       "      <td>14.656451</td>\n",
       "      <td>23.176668</td>\n",
       "      <td>22.333869</td>\n",
       "      <td>23.956451</td>\n",
       "      <td>26.169998</td>\n",
       "      <td>...</td>\n",
       "      <td>79.640000</td>\n",
       "      <td>84.20000</td>\n",
       "      <td>80.367742</td>\n",
       "      <td>74.666667</td>\n",
       "      <td>62.900000</td>\n",
       "      <td>0.0</td>\n",
       "      <td>0.145010</td>\n",
       "      <td>6.921538</td>\n",
       "      <td>25.34102</td>\n",
       "      <td>6.179484</td>\n",
       "    </tr>\n",
       "  </tbody>\n",
       "</table>\n",
       "<p>5 rows × 21 columns</p>\n",
       "</div>"
      ],
      "text/plain": [
       "        GEOID  tmin_jun_avg  tmin_jul_avg  tmin_aug_avg  tmin_sep_avg  \\\n",
       "0  6001400100     11.860003     11.801613     14.837099     15.480001   \n",
       "1  6001400200     12.723333     12.966127     15.201613     15.856664   \n",
       "2  6001400300     12.723333     12.966127     15.201613     15.856664   \n",
       "3  6001400400     12.723333     12.966127     15.201613     15.856664   \n",
       "4  6001400500     12.723333     12.966127     15.201613     15.856664   \n",
       "\n",
       "   tmin_oct_avg  tmax_jun_avg  tmax_jul_avg  tmax_aug_avg  tmax_sep_avg  ...  \\\n",
       "0     15.253225     24.040000     23.924194     26.943547     27.180002  ...   \n",
       "1     14.656451     23.176668     22.333869     23.956451     26.169998  ...   \n",
       "2     14.656451     23.176668     22.333869     23.956451     26.169998  ...   \n",
       "3     14.656451     23.176668     22.333869     23.956451     26.169998  ...   \n",
       "4     14.656451     23.176668     22.333869     23.956451     26.169998  ...   \n",
       "\n",
       "   rhum_jun_avg  rhum_jul_avg  rhum_aug_avg  rhum_sep_avg  rhum_oct_avg  \\\n",
       "0     78.096667      84.36129     77.332258     71.410000     55.306452   \n",
       "1     79.640000      84.20000     80.367742     74.666667     62.900000   \n",
       "2     79.640000      84.20000     80.367742     74.666667     62.900000   \n",
       "3     79.640000      84.20000     80.367742     74.666667     62.900000   \n",
       "4     79.640000      84.20000     80.367742     74.666667     62.900000   \n",
       "\n",
       "   smoke_pm_jun_avg  smoke_pm_jul_avg  smoke_pm_aug_avg  smoke_pm_sep_avg  \\\n",
       "0               0.0          0.133076          6.670296          25.23939   \n",
       "1               0.0          0.145010          6.921538          25.34102   \n",
       "2               0.0          0.145010          6.921538          25.34102   \n",
       "3               0.0          0.145010          6.921538          25.34102   \n",
       "4               0.0          0.145010          6.921538          25.34102   \n",
       "\n",
       "   smoke_pm_oct_avg  \n",
       "0          5.944235  \n",
       "1          6.179484  \n",
       "2          6.179484  \n",
       "3          6.179484  \n",
       "4          6.179484  \n",
       "\n",
       "[5 rows x 21 columns]"
      ]
     },
     "execution_count": 72,
     "metadata": {},
     "output_type": "execute_result"
    }
   ],
   "source": [
    "result.head()"
   ]
  },
  {
   "cell_type": "code",
   "execution_count": 74,
   "id": "e12bdad2-653b-4d80-a010-d0d0dca46f63",
   "metadata": {
    "tags": []
   },
   "outputs": [
    {
     "name": "stderr",
     "output_type": "stream",
     "text": [
      "/var/folders/b_/vlxgm9n10bz569rffzmcc5dc0000gn/T/ipykernel_87492/1647983811.py:1: FutureWarning: Indexing with multiple keys (implicitly converted to a tuple of keys) will be deprecated, use a list instead.\n",
      "  df = df.groupby(\"GEOID\")[\"POPULATION_2020\",\"POP20_SQMI\",\"geometry\"].first().reset_index()\n"
     ]
    }
   ],
   "source": [
    "df = df.groupby(\"GEOID\")[\"POPULATION_2020\",\"POP20_SQMI\",\"geometry\"].first().reset_index()"
   ]
  },
  {
   "cell_type": "code",
   "execution_count": 76,
   "id": "4c6b5e6c-5927-4903-bc9f-48ef6eeea0ff",
   "metadata": {
    "tags": []
   },
   "outputs": [],
   "source": [
    "df = df.merge(result, on=\"GEOID\")"
   ]
  },
  {
   "cell_type": "code",
   "execution_count": 77,
   "id": "cc653f56-04e7-4532-8284-d8365f190472",
   "metadata": {
    "tags": []
   },
   "outputs": [],
   "source": [
    "temp = df.drop(columns=\"geometry\")"
   ]
  },
  {
   "cell_type": "code",
   "execution_count": 78,
   "id": "58f8a7e7-7648-46f0-8162-c31f4353eb2b",
   "metadata": {
    "tags": []
   },
   "outputs": [
    {
     "data": {
      "text/html": [
       "<div>\n",
       "<style scoped>\n",
       "    .dataframe tbody tr th:only-of-type {\n",
       "        vertical-align: middle;\n",
       "    }\n",
       "\n",
       "    .dataframe tbody tr th {\n",
       "        vertical-align: top;\n",
       "    }\n",
       "\n",
       "    .dataframe thead th {\n",
       "        text-align: right;\n",
       "    }\n",
       "</style>\n",
       "<table border=\"1\" class=\"dataframe\">\n",
       "  <thead>\n",
       "    <tr style=\"text-align: right;\">\n",
       "      <th></th>\n",
       "      <th>GEOID</th>\n",
       "      <th>POPULATION_2020</th>\n",
       "      <th>POP20_SQMI</th>\n",
       "      <th>tmin_jun_avg</th>\n",
       "      <th>tmin_jul_avg</th>\n",
       "      <th>tmin_aug_avg</th>\n",
       "      <th>tmin_sep_avg</th>\n",
       "      <th>tmin_oct_avg</th>\n",
       "      <th>tmax_jun_avg</th>\n",
       "      <th>tmax_jul_avg</th>\n",
       "      <th>...</th>\n",
       "      <th>rhum_jun_avg</th>\n",
       "      <th>rhum_jul_avg</th>\n",
       "      <th>rhum_aug_avg</th>\n",
       "      <th>rhum_sep_avg</th>\n",
       "      <th>rhum_oct_avg</th>\n",
       "      <th>smoke_pm_jun_avg</th>\n",
       "      <th>smoke_pm_jul_avg</th>\n",
       "      <th>smoke_pm_aug_avg</th>\n",
       "      <th>smoke_pm_sep_avg</th>\n",
       "      <th>smoke_pm_oct_avg</th>\n",
       "    </tr>\n",
       "  </thead>\n",
       "  <tbody>\n",
       "    <tr>\n",
       "      <th>0</th>\n",
       "      <td>6001400100</td>\n",
       "      <td>3038</td>\n",
       "      <td>1133.6</td>\n",
       "      <td>11.860003</td>\n",
       "      <td>11.801613</td>\n",
       "      <td>14.837099</td>\n",
       "      <td>15.480001</td>\n",
       "      <td>15.253225</td>\n",
       "      <td>24.040000</td>\n",
       "      <td>23.924194</td>\n",
       "      <td>...</td>\n",
       "      <td>78.096667</td>\n",
       "      <td>84.36129</td>\n",
       "      <td>77.332258</td>\n",
       "      <td>71.410000</td>\n",
       "      <td>55.306452</td>\n",
       "      <td>0.0</td>\n",
       "      <td>0.133076</td>\n",
       "      <td>6.670296</td>\n",
       "      <td>25.23939</td>\n",
       "      <td>5.944235</td>\n",
       "    </tr>\n",
       "    <tr>\n",
       "      <th>1</th>\n",
       "      <td>6001400200</td>\n",
       "      <td>2001</td>\n",
       "      <td>8700.0</td>\n",
       "      <td>12.723333</td>\n",
       "      <td>12.966127</td>\n",
       "      <td>15.201613</td>\n",
       "      <td>15.856664</td>\n",
       "      <td>14.656451</td>\n",
       "      <td>23.176668</td>\n",
       "      <td>22.333869</td>\n",
       "      <td>...</td>\n",
       "      <td>79.640000</td>\n",
       "      <td>84.20000</td>\n",
       "      <td>80.367742</td>\n",
       "      <td>74.666667</td>\n",
       "      <td>62.900000</td>\n",
       "      <td>0.0</td>\n",
       "      <td>0.145010</td>\n",
       "      <td>6.921538</td>\n",
       "      <td>25.34102</td>\n",
       "      <td>6.179484</td>\n",
       "    </tr>\n",
       "    <tr>\n",
       "      <th>2</th>\n",
       "      <td>6001400300</td>\n",
       "      <td>5504</td>\n",
       "      <td>12800.0</td>\n",
       "      <td>12.723333</td>\n",
       "      <td>12.966127</td>\n",
       "      <td>15.201613</td>\n",
       "      <td>15.856664</td>\n",
       "      <td>14.656451</td>\n",
       "      <td>23.176668</td>\n",
       "      <td>22.333869</td>\n",
       "      <td>...</td>\n",
       "      <td>79.640000</td>\n",
       "      <td>84.20000</td>\n",
       "      <td>80.367742</td>\n",
       "      <td>74.666667</td>\n",
       "      <td>62.900000</td>\n",
       "      <td>0.0</td>\n",
       "      <td>0.145010</td>\n",
       "      <td>6.921538</td>\n",
       "      <td>25.34102</td>\n",
       "      <td>6.179484</td>\n",
       "    </tr>\n",
       "    <tr>\n",
       "      <th>3</th>\n",
       "      <td>6001400400</td>\n",
       "      <td>4112</td>\n",
       "      <td>14685.7</td>\n",
       "      <td>12.723333</td>\n",
       "      <td>12.966127</td>\n",
       "      <td>15.201613</td>\n",
       "      <td>15.856664</td>\n",
       "      <td>14.656451</td>\n",
       "      <td>23.176668</td>\n",
       "      <td>22.333869</td>\n",
       "      <td>...</td>\n",
       "      <td>79.640000</td>\n",
       "      <td>84.20000</td>\n",
       "      <td>80.367742</td>\n",
       "      <td>74.666667</td>\n",
       "      <td>62.900000</td>\n",
       "      <td>0.0</td>\n",
       "      <td>0.145010</td>\n",
       "      <td>6.921538</td>\n",
       "      <td>25.34102</td>\n",
       "      <td>6.179484</td>\n",
       "    </tr>\n",
       "    <tr>\n",
       "      <th>4</th>\n",
       "      <td>6001400500</td>\n",
       "      <td>3644</td>\n",
       "      <td>15843.5</td>\n",
       "      <td>12.723333</td>\n",
       "      <td>12.966127</td>\n",
       "      <td>15.201613</td>\n",
       "      <td>15.856664</td>\n",
       "      <td>14.656451</td>\n",
       "      <td>23.176668</td>\n",
       "      <td>22.333869</td>\n",
       "      <td>...</td>\n",
       "      <td>79.640000</td>\n",
       "      <td>84.20000</td>\n",
       "      <td>80.367742</td>\n",
       "      <td>74.666667</td>\n",
       "      <td>62.900000</td>\n",
       "      <td>0.0</td>\n",
       "      <td>0.145010</td>\n",
       "      <td>6.921538</td>\n",
       "      <td>25.34102</td>\n",
       "      <td>6.179484</td>\n",
       "    </tr>\n",
       "  </tbody>\n",
       "</table>\n",
       "<p>5 rows × 23 columns</p>\n",
       "</div>"
      ],
      "text/plain": [
       "        GEOID  POPULATION_2020  POP20_SQMI  tmin_jun_avg  tmin_jul_avg  \\\n",
       "0  6001400100             3038      1133.6     11.860003     11.801613   \n",
       "1  6001400200             2001      8700.0     12.723333     12.966127   \n",
       "2  6001400300             5504     12800.0     12.723333     12.966127   \n",
       "3  6001400400             4112     14685.7     12.723333     12.966127   \n",
       "4  6001400500             3644     15843.5     12.723333     12.966127   \n",
       "\n",
       "   tmin_aug_avg  tmin_sep_avg  tmin_oct_avg  tmax_jun_avg  tmax_jul_avg  ...  \\\n",
       "0     14.837099     15.480001     15.253225     24.040000     23.924194  ...   \n",
       "1     15.201613     15.856664     14.656451     23.176668     22.333869  ...   \n",
       "2     15.201613     15.856664     14.656451     23.176668     22.333869  ...   \n",
       "3     15.201613     15.856664     14.656451     23.176668     22.333869  ...   \n",
       "4     15.201613     15.856664     14.656451     23.176668     22.333869  ...   \n",
       "\n",
       "   rhum_jun_avg  rhum_jul_avg  rhum_aug_avg  rhum_sep_avg  rhum_oct_avg  \\\n",
       "0     78.096667      84.36129     77.332258     71.410000     55.306452   \n",
       "1     79.640000      84.20000     80.367742     74.666667     62.900000   \n",
       "2     79.640000      84.20000     80.367742     74.666667     62.900000   \n",
       "3     79.640000      84.20000     80.367742     74.666667     62.900000   \n",
       "4     79.640000      84.20000     80.367742     74.666667     62.900000   \n",
       "\n",
       "   smoke_pm_jun_avg  smoke_pm_jul_avg  smoke_pm_aug_avg  smoke_pm_sep_avg  \\\n",
       "0               0.0          0.133076          6.670296          25.23939   \n",
       "1               0.0          0.145010          6.921538          25.34102   \n",
       "2               0.0          0.145010          6.921538          25.34102   \n",
       "3               0.0          0.145010          6.921538          25.34102   \n",
       "4               0.0          0.145010          6.921538          25.34102   \n",
       "\n",
       "   smoke_pm_oct_avg  \n",
       "0          5.944235  \n",
       "1          6.179484  \n",
       "2          6.179484  \n",
       "3          6.179484  \n",
       "4          6.179484  \n",
       "\n",
       "[5 rows x 23 columns]"
      ]
     },
     "execution_count": 78,
     "metadata": {},
     "output_type": "execute_result"
    }
   ],
   "source": [
    "temp.head()"
   ]
  },
  {
   "cell_type": "code",
   "execution_count": 79,
   "id": "9d08a845-38b9-4b81-8841-57ace16e4404",
   "metadata": {
    "tags": []
   },
   "outputs": [],
   "source": [
    "temp.to_csv(\"climate_exposure_and_population_ca_year_2020.csv\")"
   ]
  },
  {
   "cell_type": "code",
   "execution_count": null,
   "id": "ed885c75-020c-4138-9e0d-407b3d1ad070",
   "metadata": {},
   "outputs": [],
   "source": []
  }
 ],
 "metadata": {
  "kernelspec": {
   "display_name": "Python 3 (ipykernel)",
   "language": "python",
   "name": "python3"
  },
  "language_info": {
   "codemirror_mode": {
    "name": "ipython",
    "version": 3
   },
   "file_extension": ".py",
   "mimetype": "text/x-python",
   "name": "python",
   "nbconvert_exporter": "python",
   "pygments_lexer": "ipython3",
   "version": "3.10.11"
  }
 },
 "nbformat": 4,
 "nbformat_minor": 5
}
