{
 "cells": [
  {
   "cell_type": "markdown",
   "id": "7f98dd49-d191-49b1-a676-75b6357207fd",
   "metadata": {},
   "source": [
    "# CDC/ATSDR Social Vulnerability Index\n",
    "\n",
    "Data documentation: https://www.atsdr.cdc.gov/placeandhealth/svi/index.html\n",
    "\n",
    "Data is downloaded from [here](https://www.atsdr.cdc.gov/placeandhealth/svi/data_documentation_download.html)."
   ]
  },
  {
   "cell_type": "code",
   "execution_count": 52,
   "id": "b070388b-a148-446b-8380-27e099b4db3f",
   "metadata": {
    "tags": []
   },
   "outputs": [],
   "source": [
    "import pandas as pd"
   ]
  },
  {
   "cell_type": "code",
   "execution_count": 53,
   "id": "8d977ebe-0d7e-47ba-90a8-f3f957a65d88",
   "metadata": {
    "tags": []
   },
   "outputs": [],
   "source": [
    "cols = [\n",
    "    \"FIPS\",\n",
    "    \"E_TOTPOP\",\n",
    "    \"E_HU\",\n",
    "    \"E_HH\",\n",
    "    \"EP_NOINT\",\n",
    "    \"EP_MUNIT\",\n",
    "    \"EP_POV150\",\n",
    "    \"EP_UNEMP\",\n",
    "    \"EP_HBURD\",\n",
    "    \"EP_NOHSDP\",\n",
    "    \"EP_UNINSUR\",\n",
    "    \"EP_AGE65\",\n",
    "    \"EP_AGE17\",\n",
    "    \"EP_DISABL\",\n",
    "    \"EP_SNGPNT\",\n",
    "    \"EP_LIMENG\", \n",
    "    \"EP_MINRTY\",\n",
    "    \"EP_NOVEH\",\n",
    "    \"RPL_THEME1\",\n",
    "    \"RPL_THEME2\",\n",
    "    \"RPL_THEME3\",\n",
    "    \"RPL_THEME4\",\n",
    "    \"RPL_THEMES\",]"
   ]
  },
  {
   "cell_type": "code",
   "execution_count": 54,
   "id": "e36028d4-7e43-4d6a-ad47-7b59305fd2ce",
   "metadata": {
    "tags": []
   },
   "outputs": [],
   "source": [
    "df = pd.read_csv(\"data/Texas.csv\", usecols=cols, dtype={\"FIPS\":str})"
   ]
  },
  {
   "cell_type": "code",
   "execution_count": 55,
   "id": "3535d263-f374-4b73-acac-08f0177f8d7b",
   "metadata": {
    "tags": []
   },
   "outputs": [],
   "source": [
    "# exclude NaNs\n",
    "df = df[df[\"RPL_THEMES\"] > -1]"
   ]
  },
  {
   "cell_type": "code",
   "execution_count": 56,
   "id": "b433a4bd-dc13-4660-a4a3-9db4105fd3f2",
   "metadata": {
    "tags": []
   },
   "outputs": [],
   "source": [
    "df.to_csv(\"../data/cdcatsdrsvi_tx.csv\", index=False)"
   ]
  },
  {
   "cell_type": "code",
   "execution_count": null,
   "id": "3c761938-0988-4d96-8056-c9c6039d3cb1",
   "metadata": {},
   "outputs": [],
   "source": []
  }
 ],
 "metadata": {
  "kernelspec": {
   "display_name": "Python 3 (ipykernel)",
   "language": "python",
   "name": "python3"
  },
  "language_info": {
   "codemirror_mode": {
    "name": "ipython",
    "version": 3
   },
   "file_extension": ".py",
   "mimetype": "text/x-python",
   "name": "python",
   "nbconvert_exporter": "python",
   "pygments_lexer": "ipython3",
   "version": "3.10.8"
  }
 },
 "nbformat": 4,
 "nbformat_minor": 5
}
