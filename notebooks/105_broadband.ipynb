{
 "cells": [
  {
   "cell_type": "markdown",
   "id": "5361f7c5-b2a9-4ec0-b33b-e17aefecaa14",
   "metadata": {
    "tags": []
   },
   "source": [
    "# Broadband usage with economic and demographic data\n",
    "\n",
    "- Contains broadband usage information at the ZCTA (zipcode) level from https://github.com/microsoft/USBroadbandUsagePercentages\n",
    "- Contains economic and demographic data at the ZCTA level from the Census\n",
    "- The ZCTA spatial graph is built from the Census TIGER/Line shapefiles for 2020"
   ]
  },
  {
   "cell_type": "markdown",
   "id": "2974d6ae",
   "metadata": {},
   "source": [
    "Prerequisites to run the code:"
   ]
  },
  {
   "cell_type": "markdown",
   "id": "c2e86ab8",
   "metadata": {},
   "source": [
    "```yaml\n",
    "# env.yaml\n",
    "# install with 'conda env create -f env.yml'\n",
    "# conda activate broadband\n",
    "name: broadband\n",
    "channels:\n",
    "  - conda-forge\n",
    "  - defaults\n",
    "dependencies:\n",
    "  - python=3.11\n",
    "  - pip\n",
    "  - pip:\n",
    "    - matplotlib\n",
    "    - networkx\n",
    "    - requests\n",
    "    - geopandas\n",
    "    - census\n",
    "    - us\n",
    "    - black\n",
    "    - ipywidgets\n",
    "    - tqdm\n",
    "    - pyarrow\n",
    "```"
   ]
  },
  {
   "cell_type": "code",
   "execution_count": 7,
   "id": "ae36aca5-d68b-4937-b2b9-9e6c922050a2",
   "metadata": {
    "tags": []
   },
   "outputs": [],
   "source": [
    "import pandas as pd\n",
    "import numpy as np\n",
    "import geopandas as gpd\n",
    "import requests\n",
    "import os\n",
    "import networkx as nx\n",
    "from census import Census\n",
    "from tqdm import tqdm\n",
    "import tempfile"
   ]
  },
  {
   "attachments": {},
   "cell_type": "markdown",
   "id": "701abd52",
   "metadata": {},
   "source": [
    "## Load Broadband Usage Data"
   ]
  },
  {
   "cell_type": "code",
   "execution_count": 8,
   "id": "c6c5b535",
   "metadata": {},
   "outputs": [],
   "source": [
    "tmpdir = tempfile.gettempdir()"
   ]
  },
  {
   "cell_type": "code",
   "execution_count": 9,
   "id": "b0707df7",
   "metadata": {},
   "outputs": [],
   "source": [
    "#%% download and load csv\n",
    "url = \"https://raw.githubusercontent.com/microsoft/USBroadbandUsagePercentages/master/dataset/broadband_data_zipcode.csv\"\n",
    "tgtpath = f'{tmpdir}/broadband_data_zipcode.csv'\n",
    "if not os.path.exists(tgtpath):\n",
    "    r = requests.get(url)\n",
    "    with open(tgtpath, \"wb\") as f:\n",
    "        f.write(r.content)\n",
    "broadband_df = pd.read_csv(tgtpath)\n"
   ]
  },
  {
   "cell_type": "markdown",
   "id": "93651b0d",
   "metadata": {},
   "source": [
    "## Create graph"
   ]
  },
  {
   "cell_type": "code",
   "execution_count": 10,
   "id": "2a657311",
   "metadata": {},
   "outputs": [
    {
     "name": "stderr",
     "output_type": "stream",
     "text": [
      "33791it [04:39, 120.69it/s]\n"
     ]
    }
   ],
   "source": [
    "url = \"https://www2.census.gov/geo/tiger/TIGER2020/ZCTA520/tl_2020_us_zcta520.zip\"\n",
    "tgtpath = f'{tmpdir}/tl_2020_us_zcta520.zip'\n",
    "\n",
    "r = requests.get(url)\n",
    "with open(tgtpath, \"wb\") as f:\n",
    "    f.write(r.content)\n",
    "gdf = gpd.read_file(tgtpath)\n",
    "\n",
    "G = nx.Graph()\n",
    "nodes = gdf[\"ZCTA5CE20\"].values \n",
    "G.add_nodes_from(nodes)\n",
    "\n",
    "for i, geom in tqdm(enumerate(gdf.geometry)):\n",
    "    # find all other geoms that touches\n",
    "    nbrs = gdf[gdf.geometry.touches(geom)].geometry\n",
    "    G.nodes[nodes[i]][\"lon\"] = geom.centroid.x\n",
    "    G.nodes[nodes[i]][\"lat\"] = geom.centroid.y\n",
    "    for j, geom2 in enumerate(nbrs):\n",
    "        G.add_edge(nodes[i], nodes[j])"
   ]
  },
  {
   "cell_type": "markdown",
   "id": "8e55f4b3",
   "metadata": {},
   "source": [
    "## Load Census Data"
   ]
  },
  {
   "cell_type": "code",
   "execution_count": 11,
   "id": "0dbb19c7",
   "metadata": {},
   "outputs": [],
   "source": [
    "def get_census_data():\n",
    "    fields = {\n",
    "        \"B03002_001E\": \"total_population\",\n",
    "        \"B03002_003E\": \"white\",\n",
    "        \"B03002_004E\": \"black\",\n",
    "        \"B03002_006E\": \"asian\",\n",
    "        \"B19013_001E\": \"median_household_income\",\n",
    "        \"B15003_017E\": \"highschool_graduates\",\n",
    "        \"B15003_001E\": \"total_population_over_18\",\n",
    "        \"B23025_005E\": \"unemployed_population_16_over\",\n",
    "        \"B25003_002E\": \"owner_occupied_housing_units\",\n",
    "        \"B25003_003E\": \"renter_occupied_housing_units\",\n",
    "        \"B01001_003E\": \"age_under_5\",\n",
    "        \"B01001_004E\": \"age_5_9\",\n",
    "        \"B01001_005E\": \"age_10_14\",\n",
    "        \"B01001_006E\": \"age_15_19\",\n",
    "        \"B01001_007E\": \"age_20_24\",\n",
    "        \"B17001_002E\": \"population_below_poverty_level\"\n",
    "    }\n",
    "\n",
    "    c = Census(os.environ.get(\"CENSUS_KEY\"), year=2020)\n",
    "    df = c.acs5.state_zipcode(list(fields.keys()), Census.ALL, Census.ALL)\n",
    "    df = pd.DataFrame(df)\n",
    "    df = df.rename(columns=fields)\n",
    "    df = df.rename(columns={\"zip code tabulation area\": \"zcta\"})\n",
    "    df = df.set_index(\"zcta\")\n",
    "\n",
    "    # Calculate new fields\n",
    "    df['pct_highschool'] = df['highschool_graduates'] / df['total_population_over_18']\n",
    "    df.loc[df['median_household_income'] <= 0, 'median_household_income'] = np.nan\n",
    "    df['log_median_income'] = np.log(df['median_household_income'])\n",
    "    df.loc[df[\"total_population\"] <= 0, \"total_population\"] = np.nan\n",
    "    df['log_total_population'] = np.log(df['total_population'])\n",
    "    \n",
    "    # Convert ethnicity counts to percentages\n",
    "    for ethnicity in [\"white\", \"black\", \"asian\"]:\n",
    "        df[f'pct_{ethnicity}'] = np.minimum(df[ethnicity].values / df['total_population'].values, 1)\n",
    "\n",
    "    df['pct_poverty'] = np.minimum(df['population_below_poverty_level'].values / df['total_population'].values, 1)\n",
    "\n",
    "    # Calculate percentage of population per age group\n",
    "    age_columns = ['age_under_5', 'age_5_9', 'age_10_14', 'age_15_19', 'age_20_24'] #... add other age groups\n",
    "    for col in age_columns:\n",
    "        df[f'pct_{col}'] = np.minimum(df[col].values / df['total_population'].values, 1)\n",
    "\n",
    "    return df\n",
    "\n",
    "census_data = get_census_data()"
   ]
  },
  {
   "cell_type": "markdown",
   "id": "3bcecde1",
   "metadata": {},
   "source": [
    "## Merge"
   ]
  },
  {
   "cell_type": "code",
   "execution_count": 12,
   "id": "88ff2db7",
   "metadata": {},
   "outputs": [],
   "source": [
    "final_df = gdf[[\"ZCTA5CE20\", \"ALAND20\", \"AWATER20\"]].rename(columns={\"ZCTA5CE20\": \"zcta\"}).set_index(\"zcta\")\n",
    "final_df = pd.merge(final_df, census_data, left_index=True, right_index=True)\n",
    "final_df[\"pop_dens\"] = 100000 * final_df[\"total_population\"] / final_df[\"ALAND20\"]\n",
    "broadband = broadband_df.rename(columns={\"POSTAL CODE\": \"zcta\"})\n",
    "broadband[\"zcta\"] = broadband[\"zcta\"].astype(str).str.zfill(5)\n",
    "broadband = broadband.set_index(\"zcta\")[\"BROADBAND USAGE\"]\n",
    "final_df = pd.merge(final_df, broadband, left_index=True, right_index=True)"
   ]
  },
  {
   "cell_type": "code",
   "execution_count": 13,
   "id": "52026fe4",
   "metadata": {},
   "outputs": [
    {
     "data": {
      "text/html": [
       "<div>\n",
       "<style scoped>\n",
       "    .dataframe tbody tr th:only-of-type {\n",
       "        vertical-align: middle;\n",
       "    }\n",
       "\n",
       "    .dataframe tbody tr th {\n",
       "        vertical-align: top;\n",
       "    }\n",
       "\n",
       "    .dataframe thead th {\n",
       "        text-align: right;\n",
       "    }\n",
       "</style>\n",
       "<table border=\"1\" class=\"dataframe\">\n",
       "  <thead>\n",
       "    <tr style=\"text-align: right;\">\n",
       "      <th></th>\n",
       "      <th>ALAND20</th>\n",
       "      <th>AWATER20</th>\n",
       "      <th>total_population</th>\n",
       "      <th>white</th>\n",
       "      <th>black</th>\n",
       "      <th>asian</th>\n",
       "      <th>median_household_income</th>\n",
       "      <th>highschool_graduates</th>\n",
       "      <th>total_population_over_18</th>\n",
       "      <th>unemployed_population_16_over</th>\n",
       "      <th>...</th>\n",
       "      <th>pct_black</th>\n",
       "      <th>pct_asian</th>\n",
       "      <th>pct_poverty</th>\n",
       "      <th>pct_age_under_5</th>\n",
       "      <th>pct_age_5_9</th>\n",
       "      <th>pct_age_10_14</th>\n",
       "      <th>pct_age_15_19</th>\n",
       "      <th>pct_age_20_24</th>\n",
       "      <th>pop_dens</th>\n",
       "      <th>BROADBAND USAGE</th>\n",
       "    </tr>\n",
       "    <tr>\n",
       "      <th>zcta</th>\n",
       "      <th></th>\n",
       "      <th></th>\n",
       "      <th></th>\n",
       "      <th></th>\n",
       "      <th></th>\n",
       "      <th></th>\n",
       "      <th></th>\n",
       "      <th></th>\n",
       "      <th></th>\n",
       "      <th></th>\n",
       "      <th></th>\n",
       "      <th></th>\n",
       "      <th></th>\n",
       "      <th></th>\n",
       "      <th></th>\n",
       "      <th></th>\n",
       "      <th></th>\n",
       "      <th></th>\n",
       "      <th></th>\n",
       "      <th></th>\n",
       "      <th></th>\n",
       "    </tr>\n",
       "  </thead>\n",
       "  <tbody>\n",
       "    <tr>\n",
       "      <th>01001</th>\n",
       "      <td>29247431</td>\n",
       "      <td>2127894</td>\n",
       "      <td>16064.0</td>\n",
       "      <td>13967.0</td>\n",
       "      <td>387.0</td>\n",
       "      <td>509.0</td>\n",
       "      <td>66088.0</td>\n",
       "      <td>3245.0</td>\n",
       "      <td>12379.0</td>\n",
       "      <td>362.0</td>\n",
       "      <td>...</td>\n",
       "      <td>0.024091</td>\n",
       "      <td>0.031686</td>\n",
       "      <td>0.080989</td>\n",
       "      <td>0.028822</td>\n",
       "      <td>0.022286</td>\n",
       "      <td>0.033927</td>\n",
       "      <td>0.016559</td>\n",
       "      <td>0.005727</td>\n",
       "      <td>54.924482</td>\n",
       "      <td>0.808</td>\n",
       "    </tr>\n",
       "    <tr>\n",
       "      <th>01002</th>\n",
       "      <td>137931897</td>\n",
       "      <td>4280973</td>\n",
       "      <td>30099.0</td>\n",
       "      <td>21114.0</td>\n",
       "      <td>1658.0</td>\n",
       "      <td>3101.0</td>\n",
       "      <td>60540.0</td>\n",
       "      <td>1562.0</td>\n",
       "      <td>14177.0</td>\n",
       "      <td>1305.0</td>\n",
       "      <td>...</td>\n",
       "      <td>0.055085</td>\n",
       "      <td>0.103027</td>\n",
       "      <td>0.196684</td>\n",
       "      <td>0.015615</td>\n",
       "      <td>0.016246</td>\n",
       "      <td>0.018705</td>\n",
       "      <td>0.013821</td>\n",
       "      <td>0.045317</td>\n",
       "      <td>21.821639</td>\n",
       "      <td>0.638</td>\n",
       "    </tr>\n",
       "    <tr>\n",
       "      <th>01003</th>\n",
       "      <td>2082670</td>\n",
       "      <td>14001</td>\n",
       "      <td>11588.0</td>\n",
       "      <td>7363.0</td>\n",
       "      <td>481.0</td>\n",
       "      <td>2377.0</td>\n",
       "      <td>NaN</td>\n",
       "      <td>6.0</td>\n",
       "      <td>74.0</td>\n",
       "      <td>948.0</td>\n",
       "      <td>...</td>\n",
       "      <td>0.041508</td>\n",
       "      <td>0.205126</td>\n",
       "      <td>0.002071</td>\n",
       "      <td>0.000000</td>\n",
       "      <td>0.000000</td>\n",
       "      <td>0.000000</td>\n",
       "      <td>0.005437</td>\n",
       "      <td>0.265533</td>\n",
       "      <td>556.401158</td>\n",
       "      <td>1.000</td>\n",
       "    </tr>\n",
       "    <tr>\n",
       "      <th>01005</th>\n",
       "      <td>111859191</td>\n",
       "      <td>666424</td>\n",
       "      <td>5166.0</td>\n",
       "      <td>4833.0</td>\n",
       "      <td>103.0</td>\n",
       "      <td>17.0</td>\n",
       "      <td>80060.0</td>\n",
       "      <td>1087.0</td>\n",
       "      <td>3578.0</td>\n",
       "      <td>114.0</td>\n",
       "      <td>...</td>\n",
       "      <td>0.019938</td>\n",
       "      <td>0.003291</td>\n",
       "      <td>0.107240</td>\n",
       "      <td>0.006775</td>\n",
       "      <td>0.012776</td>\n",
       "      <td>0.033488</td>\n",
       "      <td>0.021487</td>\n",
       "      <td>0.012195</td>\n",
       "      <td>4.618306</td>\n",
       "      <td>0.280</td>\n",
       "    </tr>\n",
       "    <tr>\n",
       "      <th>01007</th>\n",
       "      <td>142111112</td>\n",
       "      <td>6936467</td>\n",
       "      <td>15080.0</td>\n",
       "      <td>13612.0</td>\n",
       "      <td>112.0</td>\n",
       "      <td>529.0</td>\n",
       "      <td>94812.0</td>\n",
       "      <td>2282.0</td>\n",
       "      <td>10584.0</td>\n",
       "      <td>316.0</td>\n",
       "      <td>...</td>\n",
       "      <td>0.007427</td>\n",
       "      <td>0.035080</td>\n",
       "      <td>0.049536</td>\n",
       "      <td>0.029642</td>\n",
       "      <td>0.025332</td>\n",
       "      <td>0.040385</td>\n",
       "      <td>0.025862</td>\n",
       "      <td>0.017308</td>\n",
       "      <td>10.611415</td>\n",
       "      <td>0.496</td>\n",
       "    </tr>\n",
       "  </tbody>\n",
       "</table>\n",
       "<p>5 rows × 32 columns</p>\n",
       "</div>"
      ],
      "text/plain": [
       "         ALAND20  AWATER20  total_population    white   black   asian  \\\n",
       "zcta                                                                    \n",
       "01001   29247431   2127894           16064.0  13967.0   387.0   509.0   \n",
       "01002  137931897   4280973           30099.0  21114.0  1658.0  3101.0   \n",
       "01003    2082670     14001           11588.0   7363.0   481.0  2377.0   \n",
       "01005  111859191    666424            5166.0   4833.0   103.0    17.0   \n",
       "01007  142111112   6936467           15080.0  13612.0   112.0   529.0   \n",
       "\n",
       "       median_household_income  highschool_graduates  \\\n",
       "zcta                                                   \n",
       "01001                  66088.0                3245.0   \n",
       "01002                  60540.0                1562.0   \n",
       "01003                      NaN                   6.0   \n",
       "01005                  80060.0                1087.0   \n",
       "01007                  94812.0                2282.0   \n",
       "\n",
       "       total_population_over_18  unemployed_population_16_over  ...  \\\n",
       "zcta                                                            ...   \n",
       "01001                   12379.0                          362.0  ...   \n",
       "01002                   14177.0                         1305.0  ...   \n",
       "01003                      74.0                          948.0  ...   \n",
       "01005                    3578.0                          114.0  ...   \n",
       "01007                   10584.0                          316.0  ...   \n",
       "\n",
       "       pct_black  pct_asian  pct_poverty  pct_age_under_5  pct_age_5_9  \\\n",
       "zcta                                                                     \n",
       "01001   0.024091   0.031686     0.080989         0.028822     0.022286   \n",
       "01002   0.055085   0.103027     0.196684         0.015615     0.016246   \n",
       "01003   0.041508   0.205126     0.002071         0.000000     0.000000   \n",
       "01005   0.019938   0.003291     0.107240         0.006775     0.012776   \n",
       "01007   0.007427   0.035080     0.049536         0.029642     0.025332   \n",
       "\n",
       "       pct_age_10_14  pct_age_15_19  pct_age_20_24    pop_dens  \\\n",
       "zcta                                                             \n",
       "01001       0.033927       0.016559       0.005727   54.924482   \n",
       "01002       0.018705       0.013821       0.045317   21.821639   \n",
       "01003       0.000000       0.005437       0.265533  556.401158   \n",
       "01005       0.033488       0.021487       0.012195    4.618306   \n",
       "01007       0.040385       0.025862       0.017308   10.611415   \n",
       "\n",
       "       BROADBAND USAGE  \n",
       "zcta                    \n",
       "01001            0.808  \n",
       "01002            0.638  \n",
       "01003            1.000  \n",
       "01005            0.280  \n",
       "01007            0.496  \n",
       "\n",
       "[5 rows x 32 columns]"
      ]
     },
     "execution_count": 13,
     "metadata": {},
     "output_type": "execute_result"
    }
   ],
   "source": [
    "final_df.head()"
   ]
  },
  {
   "cell_type": "markdown",
   "id": "0390bb9b",
   "metadata": {},
   "source": [
    "## Save"
   ]
  },
  {
   "cell_type": "code",
   "execution_count": 14,
   "id": "9d9c5721",
   "metadata": {},
   "outputs": [],
   "source": [
    "tgtdir = \"uploads/dataverse\"\n",
    "os.makedirs(tgtdir, exist_ok=True)\n",
    "final_df.to_csv(f\"{tgtdir}/data_broadband.parquet\")\n",
    "nx.write_graphml(G, f\"{tgtdir}/graph_broadband.graphml.gz\")"
   ]
  },
  {
   "cell_type": "code",
   "execution_count": 15,
   "id": "1d2931c3",
   "metadata": {},
   "outputs": [
    {
     "name": "stdout",
     "output_type": "stream",
     "text": [
      "Number of nodes: 33791\n",
      "Number of edges: 184246\n"
     ]
    }
   ],
   "source": [
    "print(\"Number of nodes:\", len(G.nodes))\n",
    "print(\"Number of edges:\", len(G.edges))"
   ]
  },
  {
   "cell_type": "markdown",
   "id": "89fd928b",
   "metadata": {},
   "source": [
    "## Var list\n"
   ]
  },
  {
   "cell_type": "code",
   "execution_count": 16,
   "id": "74f11066",
   "metadata": {},
   "outputs": [
    {
     "data": {
      "text/plain": [
       "Index(['ALAND20', 'AWATER20', 'total_population', 'white', 'black', 'asian',\n",
       "       'median_household_income', 'highschool_graduates',\n",
       "       'total_population_over_18', 'unemployed_population_16_over',\n",
       "       'owner_occupied_housing_units', 'renter_occupied_housing_units',\n",
       "       'age_under_5', 'age_5_9', 'age_10_14', 'age_15_19', 'age_20_24',\n",
       "       'population_below_poverty_level', 'pct_highschool', 'log_median_income',\n",
       "       'log_total_population', 'pct_white', 'pct_black', 'pct_asian',\n",
       "       'pct_poverty', 'pct_age_under_5', 'pct_age_5_9', 'pct_age_10_14',\n",
       "       'pct_age_15_19', 'pct_age_20_24', 'pop_dens', 'BROADBAND USAGE'],\n",
       "      dtype='object')"
      ]
     },
     "execution_count": 16,
     "metadata": {},
     "output_type": "execute_result"
    }
   ],
   "source": [
    "final_df.columns"
   ]
  }
 ],
 "metadata": {
  "kernelspec": {
   "display_name": "space",
   "language": "python",
   "name": "python3"
  },
  "language_info": {
   "codemirror_mode": {
    "name": "ipython",
    "version": 3
   },
   "file_extension": ".py",
   "mimetype": "text/x-python",
   "name": "python",
   "nbconvert_exporter": "python",
   "pygments_lexer": "ipython3",
   "version": "3.11.5"
  }
 },
 "nbformat": 4,
 "nbformat_minor": 5
}
