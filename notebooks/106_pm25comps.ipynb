{
 "cells": [
  {
   "cell_type": "markdown",
   "id": "5361f7c5-b2a9-4ec0-b33b-e17aefecaa14",
   "metadata": {
    "tags": []
   },
   "source": [
    "# High-resolution PM 2.5 and components data\n",
    "\n",
    "This dataset has a very high spatial resolution of 1km x 1km. After harmonization and removing missing values, the dataset contains around 5,000,000 observations. \n",
    "\n",
    "The original following data sources consist of rasters from the following sources. Unfortunately, data from the NASA Earth Observatory must be downloaded manually after creating an account. \n",
    "\n",
    "\n",
    "### PM 2.5 Components Data, US 2000\n",
    "\n",
    "- Source: NASA Earth Observatory\n",
    "- URL: https://sedac.ciesin.columbia.edu/data/set/aqdh-pm2-5-component-ec-nh4-no3-oc-so4-50m-1km-contiguous-us-2000-2019/data-download\n",
    "- Research Paper: https://www.researchsquare.com/article/rs-1745433/v2\n",
    "- Files: \n",
    "  -  `aqdh_pm25component_ec_2000_non_urban` (Elemental Carbon)\n",
    "  - `aqdh_pm25component_nh4_2000_non_urban` (Ammonium)\n",
    "  - `aqdh_pm25component_no3_2000_non_urban` (Nitrate)\n",
    "  - `aqdh_pm25component_oc_2000_non_urban` (Organic Carbon)\n",
    "  - `aqdh_pm25component_so4_2000_non_urban` (Sulfate)\n",
    "\n",
    "### Total PM 2.5 Data, US 2000\n",
    "\n",
    "- Source: NASA Earth Observatory\n",
    "- URL: https://sedac.ciesin.columbia.edu/data/set/aqdh-pm2-5-annual-concentrations-1km-contiguous-us-2000-2019/data-download\n",
    "- Research Paper: https://www.sciencedirect.com/science/article/pii/S0160412019300650?via%3Dihub#s0115\n",
    "- Files;\n",
    "  - `Annual-geotiff/2000.tif` (Total PM 2.5)\n",
    "\n",
    "The spatial graph is obtained from the row-column representation in the raster's original projections.\n",
    "\n",
    "*TODO*: More variables about land used and demographic will be added, but keep in mind that that the dataset is already very large. The majority of existing methods for spatial data scale polynomially with the number of observations, so the dataset is already beyond what spatial methods can handle.\n",
    "\n",
    "For the code we assume that the above files are downloaded and uncompressed in a `data/` folder."
   ]
  },
  {
   "cell_type": "markdown",
   "id": "898025c8",
   "metadata": {},
   "source": [
    "## Requirements"
   ]
  },
  {
   "cell_type": "markdown",
   "id": "3ac6f231",
   "metadata": {},
   "source": [
    "```yaml\n",
    "# install with conda env create -f <file-name>.yaml and\n",
    "# activate with conda activate pm25comps\n",
    "name: pm25comps\n",
    "channels:\n",
    "  - defaults\n",
    "  - conda-forge\n",
    "dependencies:\n",
    "  - python=3.10\n",
    "  - pandas\n",
    "  - pyarrow\n",
    "  - lxml\n",
    "  - pip\n",
    "  - pip:\n",
    "    - matplotlib\n",
    "    - ipykernel\n",
    "    - pyreadr\n",
    "    - networkx\n",
    "    - rasterio\n",
    "    - tqdm\n",
    "    - pyproj\n",
    "    - lxml\n",
    "```"
   ]
  },
  {
   "cell_type": "code",
   "execution_count": 13,
   "id": "ae36aca5-d68b-4937-b2b9-9e6c922050a2",
   "metadata": {
    "tags": []
   },
   "outputs": [],
   "source": [
    "import os\n",
    "import pyreadr\n",
    "import pyproj\n",
    "import pandas as pd\n",
    "import rasterio\n",
    "import numpy as np\n",
    "import networkx as nx\n",
    "from tqdm import tqdm\n",
    "import tempfile"
   ]
  },
  {
   "cell_type": "markdown",
   "id": "77ae9628",
   "metadata": {},
   "source": [
    "## Load PM2.5 and components data"
   ]
  },
  {
   "attachments": {},
   "cell_type": "markdown",
   "id": "701abd52",
   "metadata": {},
   "source": [
    "Utility function to map coordinates to row-column representation using a raster's original projection."
   ]
  },
  {
   "cell_type": "code",
   "execution_count": 3,
   "id": "2f933dd3",
   "metadata": {},
   "outputs": [],
   "source": [
    "def update_dataframe_with_raster(df, raster_path):\n",
    "    \"\"\"\n",
    "    Add row, col of raster into dataframe.\n",
    "\n",
    "    Parameters:\n",
    "    - df: pandas DataFrame with 'lon', 'lat', and 'value' columns\n",
    "    - raster_path: path to the input raster file\n",
    "    \"\"\"\n",
    "\n",
    "    # Read the CRS from the raster\n",
    "    with rasterio.open(raster_path) as src:\n",
    "        raster_crs = src.crs\n",
    "\n",
    "    # If DataFrame coordinates are in WGS84 (can be replaced by other known CRS)\n",
    "    data_crs = pyproj.CRS(\"EPSG:4326\")\n",
    "\n",
    "    # Initialize transformer between DataFrame CRS and raster CRS\n",
    "    transformer = pyproj.Transformer.from_crs(data_crs, raster_crs, always_xy=True)\n",
    "\n",
    "    # Transform DataFrame coordinates to raster CRS\n",
    "    df[\"x\"], df[\"y\"] = transformer.transform(df[\"lon\"].values, df[\"lat\"].values)\n",
    "\n",
    "    # Open the raster file to read its properties and data\n",
    "    with rasterio.open(raster_path) as src:\n",
    "        # Convert the x, y coordinates to row, col indices in the raster\n",
    "        df[\"row\"], df[\"col\"] = zip(\n",
    "            *[~src.transform * (x, y) for x, y in zip(df[\"x\"], df[\"y\"])]\n",
    "        )\n",
    "\n",
    "        # Round row and col to integers\n",
    "        df[\"row\"] = df[\"row\"].astype(int)\n",
    "        df[\"col\"] = df[\"col\"].astype(int)\n"
   ]
  },
  {
   "cell_type": "markdown",
   "id": "f4c682f2",
   "metadata": {},
   "source": [
    "Load and process components data"
   ]
  },
  {
   "cell_type": "code",
   "execution_count": 4,
   "id": "7c7833c4",
   "metadata": {},
   "outputs": [
    {
     "name": "stdout",
     "output_type": "stream",
     "text": [
      "ec... done.\n",
      "   row  col     value\n",
      "0    0  897  0.192862\n",
      "1    0  898  0.166689\n",
      "2    0  899  0.185424\n",
      "3    1  895  0.225625\n",
      "4    1  896  0.191031\n",
      "so4... done.\n",
      "   row  col     value\n",
      "0    0  897  0.932552\n",
      "1    0  898  0.928306\n",
      "2    0  899  0.989542\n",
      "3    1  895  1.012710\n",
      "4    1  896  0.980354\n",
      "no3... done.\n",
      "   row  col     value\n",
      "0    0  897  0.327126\n",
      "1    0  898  0.316236\n",
      "2    0  899  0.334373\n",
      "3    1  895  0.317554\n",
      "4    1  896  0.272384\n",
      "nh4... done.\n",
      "   row  col     value\n",
      "0    0  897  0.154040\n",
      "1    0  898  0.143897\n",
      "2    0  899  0.159752\n",
      "3    1  895  0.140403\n",
      "4    1  896  0.138589\n",
      "oc... done.\n",
      "   row  col     value\n",
      "0    0  897  1.127481\n",
      "1    0  898  1.123821\n",
      "2    0  899  1.102654\n",
      "3    1  895  1.115354\n",
      "4    1  896  1.045228\n"
     ]
    }
   ],
   "source": [
    "df_comps = {}\n",
    "for comp in [\"ec\", \"so4\", \"no3\", \"nh4\", \"oc\"]:\n",
    "    print(f\"{comp}...\", end=\"\")\n",
    "    df = pyreadr.read_r(f\"data/aqdh_pm25component_{comp}_2000_non_urban.rds\")[None]\n",
    "    df.rename(columns={f\"final.predicted.{comp}\": \"value\"}, inplace=True)\n",
    "    update_dataframe_with_raster(df, \"data/Annual-geotiff/2000.tif\")\n",
    "    df = df[[\"row\", \"col\", \"value\"]]\n",
    "    df = df.groupby([\"row\", \"col\"]).mean().reset_index()\n",
    "    df_comps[comp] = df.rename(columns={\"value\": f\"value_{comp}\"})\n",
    "    print(\" done.\")\n",
    "    print(df.head())\n"
   ]
  },
  {
   "cell_type": "markdown",
   "id": "0bb37c78",
   "metadata": {},
   "source": [
    "Utility to convert raster to row-column data frame representation"
   ]
  },
  {
   "cell_type": "code",
   "execution_count": 5,
   "id": "ed816299",
   "metadata": {},
   "outputs": [],
   "source": [
    "def raster_to_dataframe(raster_path):\n",
    "    \"\"\"\n",
    "    Convert raster to row column dataframe\n",
    "    \"\"\"\n",
    "    with rasterio.open(raster_path) as src:\n",
    "        array_data = src.read(1)\n",
    "        na_entry = src.nodata\n",
    "    height, width = array_data.shape\n",
    "    row, col = np.indices((height, width))\n",
    "    row = row.flatten()\n",
    "    col = col.flatten()\n",
    "    value = array_data.flatten()\n",
    "    df = pd.DataFrame({\"row\": row, \"col\": col, \"value\": value})\n",
    "    df = df[df[\"value\"] != na_entry]\n",
    "    return df"
   ]
  },
  {
   "cell_type": "markdown",
   "id": "2c6568be",
   "metadata": {},
   "source": [
    "Read pm2.5 and merge with component data, remove incomplete observations"
   ]
  },
  {
   "cell_type": "code",
   "execution_count": 10,
   "id": "17035a43",
   "metadata": {},
   "outputs": [
    {
     "data": {
      "text/html": [
       "<div>\n",
       "<style scoped>\n",
       "    .dataframe tbody tr th:only-of-type {\n",
       "        vertical-align: middle;\n",
       "    }\n",
       "\n",
       "    .dataframe tbody tr th {\n",
       "        vertical-align: top;\n",
       "    }\n",
       "\n",
       "    .dataframe thead th {\n",
       "        text-align: right;\n",
       "    }\n",
       "</style>\n",
       "<table border=\"1\" class=\"dataframe\">\n",
       "  <thead>\n",
       "    <tr style=\"text-align: right;\">\n",
       "      <th></th>\n",
       "      <th>row</th>\n",
       "      <th>col</th>\n",
       "      <th>value_pm25</th>\n",
       "      <th>value_ec</th>\n",
       "      <th>value_so4</th>\n",
       "      <th>value_no3</th>\n",
       "      <th>value_nh4</th>\n",
       "      <th>value_oc</th>\n",
       "    </tr>\n",
       "  </thead>\n",
       "  <tbody>\n",
       "    <tr>\n",
       "      <th>73_621</th>\n",
       "      <td>73</td>\n",
       "      <td>621</td>\n",
       "      <td>5.055394</td>\n",
       "      <td>0.206392</td>\n",
       "      <td>0.865740</td>\n",
       "      <td>0.264086</td>\n",
       "      <td>0.165173</td>\n",
       "      <td>1.023715</td>\n",
       "    </tr>\n",
       "    <tr>\n",
       "      <th>73_632</th>\n",
       "      <td>73</td>\n",
       "      <td>632</td>\n",
       "      <td>4.512170</td>\n",
       "      <td>0.293871</td>\n",
       "      <td>0.828311</td>\n",
       "      <td>0.300283</td>\n",
       "      <td>0.072935</td>\n",
       "      <td>1.526300</td>\n",
       "    </tr>\n",
       "    <tr>\n",
       "      <th>73_633</th>\n",
       "      <td>73</td>\n",
       "      <td>633</td>\n",
       "      <td>4.923641</td>\n",
       "      <td>0.207079</td>\n",
       "      <td>0.795750</td>\n",
       "      <td>0.288293</td>\n",
       "      <td>0.130885</td>\n",
       "      <td>1.111460</td>\n",
       "    </tr>\n",
       "    <tr>\n",
       "      <th>74_621</th>\n",
       "      <td>74</td>\n",
       "      <td>621</td>\n",
       "      <td>3.557837</td>\n",
       "      <td>0.147502</td>\n",
       "      <td>0.763437</td>\n",
       "      <td>0.213010</td>\n",
       "      <td>0.143760</td>\n",
       "      <td>0.939082</td>\n",
       "    </tr>\n",
       "    <tr>\n",
       "      <th>74_622</th>\n",
       "      <td>74</td>\n",
       "      <td>622</td>\n",
       "      <td>4.635057</td>\n",
       "      <td>0.126345</td>\n",
       "      <td>0.714855</td>\n",
       "      <td>0.196622</td>\n",
       "      <td>0.190206</td>\n",
       "      <td>0.938472</td>\n",
       "    </tr>\n",
       "  </tbody>\n",
       "</table>\n",
       "</div>"
      ],
      "text/plain": [
       "        row  col  value_pm25  value_ec  value_so4  value_no3  value_nh4  \\\n",
       "73_621   73  621    5.055394  0.206392   0.865740   0.264086   0.165173   \n",
       "73_632   73  632    4.512170  0.293871   0.828311   0.300283   0.072935   \n",
       "73_633   73  633    4.923641  0.207079   0.795750   0.288293   0.130885   \n",
       "74_621   74  621    3.557837  0.147502   0.763437   0.213010   0.143760   \n",
       "74_622   74  622    4.635057  0.126345   0.714855   0.196622   0.190206   \n",
       "\n",
       "        value_oc  \n",
       "73_621  1.023715  \n",
       "73_632  1.526300  \n",
       "73_633  1.111460  \n",
       "74_621  0.939082  \n",
       "74_622  0.938472  "
      ]
     },
     "execution_count": 10,
     "metadata": {},
     "output_type": "execute_result"
    }
   ],
   "source": [
    "# load pm25 for 2000\n",
    "df = raster_to_dataframe(\"data/Annual-geotiff/2000.tif\").rename(columns={\"value\": \"value_pm25\"})\n",
    "\n",
    "for c in df_comps:\n",
    "    df = df.merge(df_comps[c], on=[\"row\", \"col\"], how=\"outer\")\n",
    "\n",
    "df = df.dropna()\n",
    "df.index = pd.Index(df[\"row\"].astype(str) + \"_\" + df[\"col\"].astype(str))\n",
    "df.head()"
   ]
  },
  {
   "cell_type": "markdown",
   "id": "7a108e48",
   "metadata": {},
   "source": [
    "## Make graph"
   ]
  },
  {
   "cell_type": "code",
   "execution_count": 11,
   "id": "0f315505",
   "metadata": {},
   "outputs": [
    {
     "name": "stderr",
     "output_type": "stream",
     "text": [
      "100%|██████████| 2848/2848 [00:06<00:00, 458.75it/s]\n"
     ]
    },
    {
     "name": "stdout",
     "output_type": "stream",
     "text": [
      "Number of nodes: 4170738\n",
      "Number of edges: 8304748\n"
     ]
    }
   ],
   "source": [
    "# make grid graph\n",
    "max_rows = df[\"row\"].max()\n",
    "max_cols = df[\"col\"].max()\n",
    "\n",
    "edgelist = []\n",
    "\n",
    "for r in tqdm(range(max_rows + 1)):\n",
    "    for c in range(max_cols + 1):\n",
    "        if c < max_cols:\n",
    "            edgelist.append((f\"{r}_{c}\", f\"{r}_{c+1}\"))\n",
    "        if r < max_rows:\n",
    "            edgelist.append((f\"{r}_{c}\", f\"{r+1}_{c}\"))\n",
    "\n",
    "G = nx.from_edgelist(edgelist)\n",
    "G = nx.subgraph(G, df.index)\n",
    "\n",
    "print(\"Number of nodes:\", G.number_of_nodes())\n",
    "print(\"Number of edges:\", G.number_of_edges())"
   ]
  },
  {
   "cell_type": "markdown",
   "id": "6f54c191",
   "metadata": {},
   "source": [
    "## Save data"
   ]
  },
  {
   "cell_type": "code",
   "execution_count": 17,
   "id": "a74f0f67",
   "metadata": {},
   "outputs": [
    {
     "name": "stderr",
     "output_type": "stream",
     "text": [
      "a graph/edges.parquet\n",
      "a graph/coords.parquet\n"
     ]
    }
   ],
   "source": [
    "edges = pd.DataFrame(edgelist, columns=[\"source\", \"target\"])\n",
    "coords = df[[\"row\", \"col\"]]\n",
    "\n",
    "tmpdir = tempfile.TemporaryDirectory().name\n",
    "os.makedirs(f\"{tmpdir}/graph\", exist_ok=True)\n",
    "os.makedirs(f\"uploads/dataverse\", exist_ok=True)\n",
    "\n",
    "edges.to_parquet(f\"{tmpdir}/graph/edges.parquet\")\n",
    "coords.to_parquet(f\"{tmpdir}/graph/coords.parquet\")\n",
    "\n",
    "os.system(f\"cd {tmpdir} && tar -czvf graph_pm25comps.tar.gz graph/edges.parquet graph/coords.parquet\")\n",
    "os.system(f\"mv {tmpdir}/graph_pm25comps.tar.gz uploads/dataverse/graph_pm25comps.tar.gz\")\n",
    "\n",
    "# %%\n",
    "df.drop(columns=[\"row\", \"col\"]).to_parquet(\"uploads/dataverse/raster_pm25comps.parquet\")"
   ]
  }
 ],
 "metadata": {
  "kernelspec": {
   "display_name": "space",
   "language": "python",
   "name": "python3"
  },
  "language_info": {
   "codemirror_mode": {
    "name": "ipython",
    "version": 3
   },
   "file_extension": ".py",
   "mimetype": "text/x-python",
   "name": "python",
   "nbconvert_exporter": "python",
   "pygments_lexer": "ipython3",
   "version": "3.10.12"
  }
 },
 "nbformat": 4,
 "nbformat_minor": 5
}
