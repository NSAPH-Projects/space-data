{
 "cells": [
  {
   "cell_type": "markdown",
   "id": "b1a24694-63f6-4656-8602-868d85b89c0e",
   "metadata": {},
   "source": [
    "# Air pollution and mortality\n",
    "\n",
    "We use the following two datasets:\n",
    "\n",
    "1. [Synthetic Medicare Data for Environmental Health Studies](https://dataverse.harvard.edu/dataset.xhtml?persistentId=doi:10.7910/DVN/L7YF2G)\n",
    "2. CDC all cause mortality data\n",
    "\n",
    "Load the CDC all cause morality data\n",
    "Users should manually download these data from https://wonder.cdc.gov/controller/datarequest/D77\n",
    "\n",
    "Using the options:\n",
    "1. Group results by: county;\n",
    "4. Year 2010.\n",
    "7. ICD codes I00-I99, J00-J98\n",
    "8. Send results to a file. \n",
    "\n",
    "Click send and save the file to \"data/cdc.tsv\"."
   ]
  },
  {
   "cell_type": "code",
   "execution_count": 12,
   "id": "6e8fcbf3-3fab-42c9-b4de-ff3785f78e11",
   "metadata": {
    "tags": []
   },
   "outputs": [],
   "source": [
    "import pandas as pd\n",
    "import numpy as np\n",
    "from sklearn.preprocessing import LabelBinarizer"
   ]
  },
  {
   "cell_type": "code",
   "execution_count": 3,
   "id": "a51e47ee-30fe-4210-a283-80625324fb42",
   "metadata": {
    "tags": []
   },
   "outputs": [],
   "source": [
    "mort = pd.read_csv(\"data/cdc.tsv\", sep=\"\\t\", dtype={\"County Code\": \"object\"})"
   ]
  },
  {
   "cell_type": "code",
   "execution_count": 6,
   "id": "261e099a-e17e-45e4-a0ac-a69d9a11792b",
   "metadata": {
    "tags": []
   },
   "outputs": [],
   "source": [
    "mort[mort.Deaths.isin([\"Suppressed\"])] = np.nan\n",
    "mort[mort.Deaths.isin([\"Missing\"])] = np.nan\n",
    "mort[\"Deaths\"] = mort[\"Deaths\"].astype(float)\n",
    "mort[\"Population\"] = mort[\"Population\"].astype(float)\n",
    "mort[\"cdc_mortality_pct\"] = 1e3 * mort[\"Deaths\"] / mort[\"Population\"]\n",
    "mort = mort.rename({\"County Code\": \"FIPS\"}, axis=1).set_index(\"FIPS\")"
   ]
  },
  {
   "cell_type": "code",
   "execution_count": 8,
   "id": "fffa8c2d-3923-410c-85af-83d5cf44aae0",
   "metadata": {
    "tags": []
   },
   "outputs": [],
   "source": [
    "# Read confounder and exposure data\n",
    "df = pd.read_csv(\"data/Study_dataset_2010.csv\", index_col=0, dtype={\"FIPS\": object})"
   ]
  },
  {
   "cell_type": "code",
   "execution_count": 10,
   "id": "54285756-6e6d-4c84-91c7-414d4a9c0c98",
   "metadata": {
    "tags": []
   },
   "outputs": [],
   "source": [
    "id_vars = [\"NAME\", \"STATE_CODE\", \"STATE\"]\n",
    "discrete_vars = [\"region\"]\n",
    "drop_vars = [\"cs_total_population\", \"cs_area\"]\n",
    "df_id = df[id_vars]\n",
    "df_discrete = []"
   ]
  },
  {
   "cell_type": "code",
   "execution_count": 13,
   "id": "4cac6c99-554e-4c15-bbc5-d7e6aa0b0d83",
   "metadata": {
    "tags": []
   },
   "outputs": [],
   "source": [
    "for c in discrete_vars:\n",
    "    col = df[c]\n",
    "    lb = LabelBinarizer()\n",
    "    lb.fit(col)\n",
    "    bcols = pd.DataFrame(\n",
    "        lb.transform(col), columns=[\"bin_\" + x for x in lb.classes_], index=df.index\n",
    "    )\n",
    "    df_discrete.append(bcols.drop(columns=\"bin_\" + lb.classes_[0]))"
   ]
  },
  {
   "cell_type": "code",
   "execution_count": 14,
   "id": "02fbdb49-e3cd-42a3-8e2d-5c3a6bb784f9",
   "metadata": {
    "tags": []
   },
   "outputs": [],
   "source": [
    "df_discrete = pd.concat(df_discrete, axis=1)\n",
    "df = df.drop(columns=id_vars + discrete_vars + drop_vars)\n",
    "df = df.merge(mort, how=\"left\", right_index=True, left_index=True)\n",
    "df = pd.concat([df, df_discrete], axis=1)"
   ]
  },
  {
   "cell_type": "code",
   "execution_count": 16,
   "id": "39f329f1-6ff6-48da-9456-ee2ffbd0d20b",
   "metadata": {
    "tags": []
   },
   "outputs": [
    {
     "data": {
      "text/plain": [
       "Index(['qd_mean_pm25', 'cs_poverty', 'cs_hispanic', 'cs_black', 'cs_white',\n",
       "       'cs_native', 'cs_asian', 'cs_ed_below_highschool',\n",
       "       'cs_household_income', 'cs_median_house_value', 'cs_other',\n",
       "       'cs_population_density', 'cdc_mean_bmi', 'cdc_pct_cusmoker',\n",
       "       'cdc_pct_sdsmoker', 'cdc_pct_fmsmoker', 'cdc_pct_nvsmoker',\n",
       "       'cdc_pct_nnsmoker', 'gmet_mean_tmmn', 'gmet_mean_summer_tmmn',\n",
       "       'gmet_mean_winter_tmmn', 'gmet_mean_tmmx', 'gmet_mean_summer_tmmx',\n",
       "       'gmet_mean_winter_tmmx', 'gmet_mean_rmn', 'gmet_mean_summer_rmn',\n",
       "       'gmet_mean_winter_rmn', 'gmet_mean_rmx', 'gmet_mean_summer_rmx',\n",
       "       'gmet_mean_winter_rmx', 'gmet_mean_sph', 'gmet_mean_summer_sph',\n",
       "       'gmet_mean_winter_sph', 'cms_mortality_pct', 'cms_white_pct',\n",
       "       'cms_black_pct', 'cms_others_pct', 'cms_hispanic_pct', 'cms_female_pct',\n",
       "       'Notes', 'County', 'Deaths', 'Population', 'Crude Rate',\n",
       "       'cdc_mortality_pct', 'bin_NORTHEAST', 'bin_SOUTH', 'bin_WEST'],\n",
       "      dtype='object')"
      ]
     },
     "execution_count": 16,
     "metadata": {},
     "output_type": "execute_result"
    }
   ],
   "source": [
    "df.columns"
   ]
  },
  {
   "cell_type": "code",
   "execution_count": 17,
   "id": "6c071e1b-fc13-4e5a-b73e-8bb50bc41b1f",
   "metadata": {
    "tags": []
   },
   "outputs": [],
   "source": [
    "df.to_csv(\"../data/air_pollution_mortality.csv\", index=False)"
   ]
  },
  {
   "cell_type": "code",
   "execution_count": null,
   "id": "c15f83ba-fd93-47f7-ad1d-130e274bf7fd",
   "metadata": {},
   "outputs": [],
   "source": []
  }
 ],
 "metadata": {
  "kernelspec": {
   "display_name": "Python 3 (ipykernel)",
   "language": "python",
   "name": "python3"
  },
  "language_info": {
   "codemirror_mode": {
    "name": "ipython",
    "version": 3
   },
   "file_extension": ".py",
   "mimetype": "text/x-python",
   "name": "python",
   "nbconvert_exporter": "python",
   "pygments_lexer": "ipython3",
   "version": "3.10.8"
  }
 },
 "nbformat": 4,
 "nbformat_minor": 5
}
