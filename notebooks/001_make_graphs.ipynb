{
 "cells": [
  {
   "cell_type": "markdown",
   "id": "b5882c76-6646-4f2f-ba95-c6fc84de7c60",
   "metadata": {},
   "source": [
    "# Graph of US counties and census tracts\n",
    "\n",
    "This notebook creates a graph based on US counties and census tract administrative units.\n",
    "\n",
    "In order to create the graph, we use [the Tiger shapefiles](https://www.census.gov/geographies/mapping-files/time-series/geo/tiger-line-file.2020.html#list-tab-790442341)."
   ]
  },
  {
   "cell_type": "code",
   "execution_count": 1,
   "id": "cc5bce28-d2cd-400d-83f6-98d960e83302",
   "metadata": {
    "tags": []
   },
   "outputs": [],
   "source": [
    "import geopandas as gpd\n",
    "import pandas as pd\n",
    "import networkx as nx"
   ]
  },
  {
   "cell_type": "code",
   "execution_count": 2,
   "id": "11c7ff38-2519-4daa-ab8f-b3e4e0eea0b1",
   "metadata": {
    "tags": []
   },
   "outputs": [],
   "source": [
    "def create_graph(tracts, ix=\"GEOID\", lon=\"INTPTLON\", lat=\"INTPTLAT\"):\n",
    "    geom = tracts.set_index(ix)\n",
    "\n",
    "    L = tracts[[ix, lat, lon]].set_index(ix)\n",
    "    L[lat] = L[lat].astype(\"float\")\n",
    "    L[lon] = L[lon].astype(\"float\")\n",
    "\n",
    "    feats = [c for c in L.columns if c != \"geometry\"]\n",
    "\n",
    "    g = nx.Graph()\n",
    "    g.add_nodes_from(geom.index.values)\n",
    "\n",
    "    # make edge list from GeoPandas DataFrame\n",
    "    edge_list = []\n",
    "    for index, row in geom.iterrows():\n",
    "        for f in feats:\n",
    "            g.nodes[index][f] = L.loc[index][f]\n",
    "        nbrs = geom[geom.geometry.touches(row.geometry)].index.values\n",
    "        for nbr in nbrs:\n",
    "            edge_list.append((index, nbr))\n",
    "    g.add_edges_from(edge_list)\n",
    "    return g"
   ]
  },
  {
   "cell_type": "markdown",
   "id": "b1cd073a-3a13-4b2d-ad93-00d5739cf3d0",
   "metadata": {},
   "source": [
    "## CA census tract graph"
   ]
  },
  {
   "cell_type": "code",
   "execution_count": 3,
   "id": "03cd4ea7-f62f-4cb4-8d79-c44a47806e79",
   "metadata": {
    "tags": []
   },
   "outputs": [],
   "source": [
    "g = create_graph(gpd.read_file(\"shapefiles/tl_2020_06_tract/tl_2020_06_tract.shp\"))\n",
    "nx.write_graphml(g, \"../data/ca_tracts.graphml\")"
   ]
  },
  {
   "cell_type": "markdown",
   "id": "89371969-c874-46b6-83e9-2578195f3e1a",
   "metadata": {},
   "source": [
    "## TX census tract graph"
   ]
  },
  {
   "cell_type": "code",
   "execution_count": 4,
   "id": "f311653d-8c3c-478c-8879-60e0ceee1d1b",
   "metadata": {
    "tags": []
   },
   "outputs": [],
   "source": [
    "g = create_graph(gpd.read_file(\"shapefiles/tl_2020_48_tract/tl_2020_48_tract.shp\"))\n",
    "nx.write_graphml(g, \"../data/tx_tracts.graphml\")"
   ]
  },
  {
   "cell_type": "markdown",
   "id": "5983865c-591d-4eec-8353-f42e8344e30b",
   "metadata": {},
   "source": [
    "## Counties"
   ]
  },
  {
   "cell_type": "code",
   "execution_count": 5,
   "id": "7c4bd9be-0063-4987-ae6e-9a7ecb54e2da",
   "metadata": {
    "tags": []
   },
   "outputs": [],
   "source": [
    "counties = gpd.read_file(\"shapefiles/tl_2010_us_county10/tl_2010_us_county10.shp\")\n",
    "counties = counties[~counties.STATEFP10.isin([\"02\", \"72\", \"78\", \"15\"])]"
   ]
  },
  {
   "cell_type": "code",
   "execution_count": 6,
   "id": "256353de-7013-4a44-baa7-3afde38320da",
   "metadata": {
    "tags": []
   },
   "outputs": [],
   "source": [
    "g = create_graph(counties, ix=\"GEOID10\", lon=\"INTPTLON10\", lat=\"INTPTLAT10\")\n",
    "nx.write_graphml(g, \"../data/counties.graphml\")"
   ]
  },
  {
   "cell_type": "code",
   "execution_count": null,
   "id": "df1da233-6530-4206-8f3f-dfffca7995f6",
   "metadata": {},
   "outputs": [],
   "source": []
  }
 ],
 "metadata": {
  "kernelspec": {
   "display_name": "Python 3 (ipykernel)",
   "language": "python",
   "name": "python3"
  },
  "language_info": {
   "codemirror_mode": {
    "name": "ipython",
    "version": 3
   },
   "file_extension": ".py",
   "mimetype": "text/x-python",
   "name": "python",
   "nbconvert_exporter": "python",
   "pygments_lexer": "ipython3",
   "version": "3.10.8"
  }
 },
 "nbformat": 4,
 "nbformat_minor": 5
}
