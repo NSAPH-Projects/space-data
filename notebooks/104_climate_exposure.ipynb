{
 "cells": [
  {
   "cell_type": "markdown",
   "id": "5361f7c5-b2a9-4ec0-b33b-e17aefecaa14",
   "metadata": {
    "tags": []
   },
   "source": [
    "# Climate Exposure Dataset\n",
    "\n",
    "- Contains information on climate exposure variables: temperature, humidity, smoke PM and wind speed\n",
    "- Contains information on population counts and population density\n",
    "- Cover the year 2020\n",
    "- Spatial coverage: California (census tract)"
   ]
  },
  {
   "cell_type": "code",
   "execution_count": 2,
   "id": "ae36aca5-d68b-4937-b2b9-9e6c922050a2",
   "metadata": {
    "tags": []
   },
   "outputs": [],
   "source": [
    "import numpy as np\n",
    "import pandas as pd\n",
    "import xarray as xr\n",
    "import seaborn as sns\n",
    "import geopandas as gpd\n",
    "import pandas as pd\n",
    "from shapely.geometry import Point\n",
    "from shapely.geometry import Polygon"
   ]
  },
  {
   "cell_type": "code",
   "execution_count": 4,
   "id": "bd7ea9da-66af-4881-9386-52c13cb853ff",
   "metadata": {
    "tags": []
   },
   "outputs": [],
   "source": [
    "# wind data comes from: https://www.ncei.noaa.gov/access/monitoring/wind/\n",
    "windu = xr.open_dataset(\"data/uwnd.10m.gauss.2020.nc\")\n",
    "windv = xr.open_dataset(\"data/vwnd.10m.gauss.2020.nc\")"
   ]
  },
  {
   "cell_type": "code",
   "execution_count": 5,
   "id": "6dc708e1-4f7d-41f6-9395-7a4897123fc2",
   "metadata": {
    "tags": []
   },
   "outputs": [],
   "source": [
    "# Calculate the absolute wind speed\n",
    "abs_wind_speed = np.sqrt(windu.uwnd**2 + windv.vwnd**2)\n",
    "tmp_abs_wind = abs_wind_speed.to_dataframe(name=\"wnd\")\n",
    "tmp_abs_wind = tmp_abs_wind.reset_index()"
   ]
  },
  {
   "cell_type": "code",
   "execution_count": 6,
   "id": "2726cc1c-dc7d-4dd4-8a1f-f447aab2eb9e",
   "metadata": {
    "tags": []
   },
   "outputs": [],
   "source": [
    "tmp_abs_wind['lon'] = ((tmp_abs_wind['lon'] + 180) % 360) - 180"
   ]
  },
  {
   "cell_type": "code",
   "execution_count": 9,
   "id": "e1976005-0158-4895-be24-166da39383ba",
   "metadata": {
    "tags": []
   },
   "outputs": [],
   "source": [
    "# Create a square polygon from lon and lat\n",
    "def create_square(lon, lat, resolution):\n",
    "    return Polygon(\n",
    "        [\n",
    "            (lon, lat),\n",
    "            (lon + resolution, lat),\n",
    "            (lon + resolution, lat + resolution),\n",
    "            (lon, lat + resolution),\n",
    "        ]\n",
    "    )"
   ]
  },
  {
   "cell_type": "code",
   "execution_count": 10,
   "id": "ac71587b-a832-474e-93a9-7a35c68fdfbd",
   "metadata": {
    "tags": []
   },
   "outputs": [],
   "source": [
    "# Apply the function to every row in the DataFrame\n",
    "tmp_abs_wind[\"geometry\"] = tmp_abs_wind.apply(\n",
    "    lambda row: create_square(row[\"lon\"], row[\"lat\"], 1.9), axis=1\n",
    ")"
   ]
  },
  {
   "cell_type": "code",
   "execution_count": 11,
   "id": "3e99226c-8349-4631-8279-54bbbc88fa89",
   "metadata": {
    "tags": []
   },
   "outputs": [],
   "source": [
    "gdf = gpd.GeoDataFrame(tmp_abs_wind, geometry=\"geometry\")"
   ]
  },
  {
   "cell_type": "code",
   "execution_count": 12,
   "id": "83237528-82a5-442a-a9df-cd10c67c0f71",
   "metadata": {
    "tags": []
   },
   "outputs": [],
   "source": [
    "wind_gdf = gdf"
   ]
  },
  {
   "cell_type": "code",
   "execution_count": 13,
   "id": "fbf5f605-8ff7-49a6-8cdf-1ccad0d61590",
   "metadata": {
    "tags": []
   },
   "outputs": [],
   "source": [
    "gdf = gpd.read_file(\"shapefiles/tl_2020_06_tract/tl_2020_06_tract.shp\")"
   ]
  },
  {
   "cell_type": "code",
   "execution_count": 14,
   "id": "cddc400f-3792-4c88-8461-ecb14bd358ae",
   "metadata": {
    "tags": []
   },
   "outputs": [],
   "source": [
    "wind_gdf = wind_gdf.set_crs(gdf.crs)"
   ]
  },
  {
   "cell_type": "code",
   "execution_count": 15,
   "id": "9b476bc8-91f1-4eda-9608-29295a10ffdf",
   "metadata": {
    "tags": []
   },
   "outputs": [
    {
     "data": {
      "text/plain": [
       "6605568"
      ]
     },
     "execution_count": 15,
     "metadata": {},
     "output_type": "execute_result"
    }
   ],
   "source": [
    "len(wind_gdf)"
   ]
  },
  {
   "cell_type": "code",
   "execution_count": 16,
   "id": "c7b45516-54cf-4077-91df-4f96441ee058",
   "metadata": {
    "tags": []
   },
   "outputs": [],
   "source": [
    "joined_data = gpd.sjoin(gdf, wind_gdf, how=\"inner\", predicate=\"intersects\")"
   ]
  },
  {
   "cell_type": "code",
   "execution_count": 18,
   "id": "ba1b54df-28cb-4b11-a75a-72243302b83f",
   "metadata": {
    "tags": []
   },
   "outputs": [
    {
     "data": {
      "text/plain": [
       "3539952"
      ]
     },
     "execution_count": 18,
     "metadata": {},
     "output_type": "execute_result"
    }
   ],
   "source": [
    "len(joined_data)"
   ]
  },
  {
   "cell_type": "code",
   "execution_count": 19,
   "id": "8c946709-fda4-48a3-bce3-102c05e53c0f",
   "metadata": {
    "tags": []
   },
   "outputs": [],
   "source": [
    "aggregated_data = joined_data.groupby(by=[\"time\", \"GEOID\"])[\"wnd\"].mean().reset_index()"
   ]
  },
  {
   "cell_type": "code",
   "execution_count": 20,
   "id": "6b758776-3f63-4500-964f-0811353f401a",
   "metadata": {
    "tags": []
   },
   "outputs": [
    {
     "data": {
      "text/plain": [
       "3341214"
      ]
     },
     "execution_count": 20,
     "metadata": {},
     "output_type": "execute_result"
    }
   ],
   "source": [
    "len(aggregated_data)"
   ]
  },
  {
   "cell_type": "code",
   "execution_count": 21,
   "id": "f32b043e-a696-4a1f-960b-183da56d1de3",
   "metadata": {
    "tags": []
   },
   "outputs": [],
   "source": [
    "# Merge aggregated data back to tract data\n",
    "merged_data = gdf.merge(aggregated_data, on=\"GEOID\")"
   ]
  },
  {
   "cell_type": "code",
   "execution_count": 22,
   "id": "cab7596f-50f5-4515-8c72-067fa4a7e235",
   "metadata": {
    "tags": []
   },
   "outputs": [
    {
     "data": {
      "text/plain": [
       "<AxesSubplot: >"
      ]
     },
     "execution_count": 22,
     "metadata": {},
     "output_type": "execute_result"
    },
    {
     "data": {
      "image/png": "[encoded data removed]",
      "text/plain": [
       "<Figure size 640x480 with 2 Axes>"
      ]
     },
     "metadata": {},
     "output_type": "display_data"
    }
   ],
   "source": [
    "merged_data[merged_data[\"time\"] == \"2020-05-01\"].plot(\n",
    "    column=\"wnd\", legend=True, linewidth=0, cmap=\"viridis_r\"\n",
    ")"
   ]
  },
  {
   "cell_type": "code",
   "execution_count": 28,
   "id": "f0c7cace-bb6b-4e3c-bd38-16d0f93a0f07",
   "metadata": {
    "tags": []
   },
   "outputs": [],
   "source": [
    "# temp data is from https://prism.oregonstate.edu\n",
    "df = pd.read_parquet(\"data/esri_tmin_tmax_pm25_merged.parquet\")"
   ]
  },
  {
   "cell_type": "code",
   "execution_count": 29,
   "id": "917bee1b-85f5-4f43-a6f0-e6b4c5f0880c",
   "metadata": {
    "tags": []
   },
   "outputs": [
    {
     "data": {
      "text/html": [
       "<div>\n",
       "<style scoped>\n",
       "    .dataframe tbody tr th:only-of-type {\n",
       "        vertical-align: middle;\n",
       "    }\n",
       "\n",
       "    .dataframe tbody tr th {\n",
       "        vertical-align: top;\n",
       "    }\n",
       "\n",
       "    .dataframe thead th {\n",
       "        text-align: right;\n",
       "    }\n",
       "</style>\n",
       "<table border=\"1\" class=\"dataframe\">\n",
       "  <thead>\n",
       "    <tr style=\"text-align: right;\">\n",
       "      <th></th>\n",
       "      <th></th>\n",
       "      <th>tmax</th>\n",
       "      <th>tmin</th>\n",
       "      <th>pm25</th>\n",
       "    </tr>\n",
       "    <tr>\n",
       "      <th>time</th>\n",
       "      <th>FIPS</th>\n",
       "      <th></th>\n",
       "      <th></th>\n",
       "      <th></th>\n",
       "    </tr>\n",
       "  </thead>\n",
       "  <tbody>\n",
       "    <tr>\n",
       "      <th rowspan=\"5\" valign=\"top\">2005-12-31</th>\n",
       "      <th>1765.0</th>\n",
       "      <td>13.350000</td>\n",
       "      <td>7.850000</td>\n",
       "      <td>4.986000</td>\n",
       "    </tr>\n",
       "    <tr>\n",
       "      <th>1766.0</th>\n",
       "      <td>14.950006</td>\n",
       "      <td>8.249994</td>\n",
       "      <td>5.500000</td>\n",
       "    </tr>\n",
       "    <tr>\n",
       "      <th>1767.0</th>\n",
       "      <td>14.950006</td>\n",
       "      <td>8.249994</td>\n",
       "      <td>5.486667</td>\n",
       "    </tr>\n",
       "    <tr>\n",
       "      <th>1768.0</th>\n",
       "      <td>14.950006</td>\n",
       "      <td>8.249994</td>\n",
       "      <td>5.437778</td>\n",
       "    </tr>\n",
       "    <tr>\n",
       "      <th>1769.0</th>\n",
       "      <td>14.950006</td>\n",
       "      <td>8.249994</td>\n",
       "      <td>5.480000</td>\n",
       "    </tr>\n",
       "  </tbody>\n",
       "</table>\n",
       "</div>"
      ],
      "text/plain": [
       "                        tmax      tmin      pm25\n",
       "time       FIPS                                 \n",
       "2005-12-31 1765.0  13.350000  7.850000  4.986000\n",
       "           1766.0  14.950006  8.249994  5.500000\n",
       "           1767.0  14.950006  8.249994  5.486667\n",
       "           1768.0  14.950006  8.249994  5.437778\n",
       "           1769.0  14.950006  8.249994  5.480000"
      ]
     },
     "execution_count": 29,
     "metadata": {},
     "output_type": "execute_result"
    }
   ],
   "source": [
    "df.head()"
   ]
  },
  {
   "cell_type": "code",
   "execution_count": 30,
   "id": "5b438d67-b1a8-4003-9f1e-bf4a4273fbb5",
   "metadata": {},
   "outputs": [],
   "source": [
    "rhum = xr.open_dataset(\"data/esri/RelHum_2006_2021_Cali.nc\")"
   ]
  },
  {
   "cell_type": "code",
   "execution_count": 31,
   "id": "9958fcd8-55ae-4ef5-9d4d-475f56fac565",
   "metadata": {
    "tags": []
   },
   "outputs": [],
   "source": [
    "rhum = rhum[[\"FIPS\", \"RELATIVE_HUMIDITY_NONE_SPATIAL_NEIGHBORS\"]].to_dataframe()\n",
    "rhum = rhum.drop(columns=[\"lat\", \"lon\"])\n",
    "rhum = rhum.groupby([\"time\", \"FIPS\"]).first()\n",
    "\n",
    "df_ = df.join(rhum, rsuffix=\"_rhum\")\n",
    "df_ = df_.rename(columns={\"RELATIVE_HUMIDITY_NONE_SPATIAL_NEIGHBORS\": \"rhum\"})"
   ]
  },
  {
   "cell_type": "code",
   "execution_count": 33,
   "id": "de7e5e1b-244f-4559-8712-9bdd58f09220",
   "metadata": {
    "tags": []
   },
   "outputs": [],
   "source": [
    "df = df_.reset_index()"
   ]
  },
  {
   "cell_type": "code",
   "execution_count": 34,
   "id": "c192faa5-cbe7-4944-b1d0-fb672cd054a7",
   "metadata": {
    "tags": []
   },
   "outputs": [
    {
     "data": {
      "text/html": [
       "<div>\n",
       "<style scoped>\n",
       "    .dataframe tbody tr th:only-of-type {\n",
       "        vertical-align: middle;\n",
       "    }\n",
       "\n",
       "    .dataframe tbody tr th {\n",
       "        vertical-align: top;\n",
       "    }\n",
       "\n",
       "    .dataframe thead th {\n",
       "        text-align: right;\n",
       "    }\n",
       "</style>\n",
       "<table border=\"1\" class=\"dataframe\">\n",
       "  <thead>\n",
       "    <tr style=\"text-align: right;\">\n",
       "      <th></th>\n",
       "      <th>time</th>\n",
       "      <th>FIPS</th>\n",
       "      <th>tmax</th>\n",
       "      <th>tmin</th>\n",
       "      <th>pm25</th>\n",
       "      <th>rhum</th>\n",
       "    </tr>\n",
       "  </thead>\n",
       "  <tbody>\n",
       "    <tr>\n",
       "      <th>0</th>\n",
       "      <td>2005-12-31</td>\n",
       "      <td>1765.0</td>\n",
       "      <td>13.350000</td>\n",
       "      <td>7.850000</td>\n",
       "      <td>4.986000</td>\n",
       "      <td>88.400002</td>\n",
       "    </tr>\n",
       "    <tr>\n",
       "      <th>1</th>\n",
       "      <td>2005-12-31</td>\n",
       "      <td>1766.0</td>\n",
       "      <td>14.950006</td>\n",
       "      <td>8.249994</td>\n",
       "      <td>5.500000</td>\n",
       "      <td>91.400002</td>\n",
       "    </tr>\n",
       "    <tr>\n",
       "      <th>2</th>\n",
       "      <td>2005-12-31</td>\n",
       "      <td>1767.0</td>\n",
       "      <td>14.950006</td>\n",
       "      <td>8.249994</td>\n",
       "      <td>5.486667</td>\n",
       "      <td>91.400002</td>\n",
       "    </tr>\n",
       "    <tr>\n",
       "      <th>3</th>\n",
       "      <td>2005-12-31</td>\n",
       "      <td>1768.0</td>\n",
       "      <td>14.950006</td>\n",
       "      <td>8.249994</td>\n",
       "      <td>5.437778</td>\n",
       "      <td>91.400002</td>\n",
       "    </tr>\n",
       "    <tr>\n",
       "      <th>4</th>\n",
       "      <td>2005-12-31</td>\n",
       "      <td>1769.0</td>\n",
       "      <td>14.950006</td>\n",
       "      <td>8.249994</td>\n",
       "      <td>5.480000</td>\n",
       "      <td>91.400002</td>\n",
       "    </tr>\n",
       "  </tbody>\n",
       "</table>\n",
       "</div>"
      ],
      "text/plain": [
       "        time    FIPS       tmax      tmin      pm25       rhum\n",
       "0 2005-12-31  1765.0  13.350000  7.850000  4.986000  88.400002\n",
       "1 2005-12-31  1766.0  14.950006  8.249994  5.500000  91.400002\n",
       "2 2005-12-31  1767.0  14.950006  8.249994  5.486667  91.400002\n",
       "3 2005-12-31  1768.0  14.950006  8.249994  5.437778  91.400002\n",
       "4 2005-12-31  1769.0  14.950006  8.249994  5.480000  91.400002"
      ]
     },
     "execution_count": 34,
     "metadata": {},
     "output_type": "execute_result"
    }
   ],
   "source": [
    "df.head()"
   ]
  },
  {
   "cell_type": "code",
   "execution_count": 35,
   "id": "3364ba18-9065-424f-bbc6-5f90cfee2f47",
   "metadata": {
    "tags": []
   },
   "outputs": [],
   "source": [
    "df = df[df[\"time\"].dt.year == 2020]"
   ]
  },
  {
   "cell_type": "code",
   "execution_count": 36,
   "id": "388b8581-d68a-46a6-bf88-43d5cacb0098",
   "metadata": {
    "tags": []
   },
   "outputs": [],
   "source": [
    "df = df.drop(columns=\"pm25\")"
   ]
  },
  {
   "cell_type": "markdown",
   "id": "43846512-8b80-456d-b419-895420b08c38",
   "metadata": {},
   "source": [
    "## Add population count and density"
   ]
  },
  {
   "cell_type": "code",
   "execution_count": 37,
   "id": "ab3c3428-5c8b-4218-a90d-23c8832f9c01",
   "metadata": {
    "tags": []
   },
   "outputs": [],
   "source": [
    "df.FIPS = df.FIPS.astype(int)"
   ]
  },
  {
   "cell_type": "code",
   "execution_count": 38,
   "id": "436ac304-ce7c-4df8-96bb-3b9bcc1aae26",
   "metadata": {
    "tags": []
   },
   "outputs": [],
   "source": [
    "gdf = gpd.read_file(\"data/esri/FIPSMapping.gdb\")\n",
    "gdf[\"FIPS_1\"] = gdf.FIPS_1.astype(int)"
   ]
  },
  {
   "cell_type": "code",
   "execution_count": 39,
   "id": "2de9cbae-059e-41d2-a7f1-f4216205eca0",
   "metadata": {
    "tags": []
   },
   "outputs": [],
   "source": [
    "df = df.merge(gdf, left_on=\"FIPS\", right_on=\"FIPS\")"
   ]
  },
  {
   "cell_type": "code",
   "execution_count": 42,
   "id": "e1ab47bd-0b5c-40cb-9e48-4a38fc07ce5c",
   "metadata": {
    "tags": []
   },
   "outputs": [],
   "source": [
    "pop = pd.read_csv(\n",
    "    \"data/esri/crosswalk/FIPSMapping_gdb_censustract_2020_ca.csv.csv\",\n",
    "    usecols=[\"FIPS\", \"POPULATION_2020\", \"POP20_SQMI\"],\n",
    ")"
   ]
  },
  {
   "cell_type": "code",
   "execution_count": 43,
   "id": "fed52385-64ca-43ee-96a9-fcbc92cae77b",
   "metadata": {
    "tags": []
   },
   "outputs": [],
   "source": [
    "df = df.merge(pop, left_on=\"FIPS_1\", right_on=\"FIPS\")"
   ]
  },
  {
   "cell_type": "code",
   "execution_count": 45,
   "id": "59906543-9680-469b-b650-93bd6e0f0bd5",
   "metadata": {
    "tags": []
   },
   "outputs": [],
   "source": [
    "df = df.drop(columns=[\"FIPS_x\", \"Shape_Length\", \"Shape_Area\", \"FIPS_y\"])"
   ]
  },
  {
   "cell_type": "code",
   "execution_count": 46,
   "id": "20d60a05-9c15-4e2e-b7d4-3da3ab6c5d7f",
   "metadata": {
    "tags": []
   },
   "outputs": [
    {
     "data": {
      "text/plain": [
       "3174318"
      ]
     },
     "execution_count": 46,
     "metadata": {},
     "output_type": "execute_result"
    }
   ],
   "source": [
    "len(df)"
   ]
  },
  {
   "cell_type": "markdown",
   "id": "332e0962-3665-4485-a353-b53e5f78228f",
   "metadata": {},
   "source": [
    "## Add wildfire smoke PM2.5"
   ]
  },
  {
   "cell_type": "code",
   "execution_count": 49,
   "id": "08464a87-6645-4be2-b7e4-0b64ca81b094",
   "metadata": {
    "tags": []
   },
   "outputs": [],
   "source": [
    "# data from https://github.com/echolab-stanford/daily-10km-smokePM\n",
    "pspm25 = pd.read_csv(\"data/smoke_pm_2020.csv\")"
   ]
  },
  {
   "cell_type": "code",
   "execution_count": 50,
   "id": "aa4cd1c8-f856-4c80-95f0-c66e496efde6",
   "metadata": {
    "tags": []
   },
   "outputs": [],
   "source": [
    "pspm25[\"date\"] = pd.to_datetime(pspm25[\"date\"])"
   ]
  },
  {
   "cell_type": "code",
   "execution_count": 52,
   "id": "15e49834-11aa-405b-a42a-3b05eba88119",
   "metadata": {
    "tags": []
   },
   "outputs": [
    {
     "data": {
      "text/html": [
       "<div>\n",
       "<style scoped>\n",
       "    .dataframe tbody tr th:only-of-type {\n",
       "        vertical-align: middle;\n",
       "    }\n",
       "\n",
       "    .dataframe tbody tr th {\n",
       "        vertical-align: top;\n",
       "    }\n",
       "\n",
       "    .dataframe thead th {\n",
       "        text-align: right;\n",
       "    }\n",
       "</style>\n",
       "<table border=\"1\" class=\"dataframe\">\n",
       "  <thead>\n",
       "    <tr style=\"text-align: right;\">\n",
       "      <th></th>\n",
       "      <th>GEOID</th>\n",
       "      <th>smoke_pm</th>\n",
       "      <th>date</th>\n",
       "    </tr>\n",
       "  </thead>\n",
       "  <tbody>\n",
       "    <tr>\n",
       "      <th>0</th>\n",
       "      <td>6001400100</td>\n",
       "      <td>0.0</td>\n",
       "      <td>2020-01-01</td>\n",
       "    </tr>\n",
       "    <tr>\n",
       "      <th>1</th>\n",
       "      <td>6001400200</td>\n",
       "      <td>0.0</td>\n",
       "      <td>2020-01-01</td>\n",
       "    </tr>\n",
       "    <tr>\n",
       "      <th>2</th>\n",
       "      <td>6001400300</td>\n",
       "      <td>0.0</td>\n",
       "      <td>2020-01-01</td>\n",
       "    </tr>\n",
       "    <tr>\n",
       "      <th>3</th>\n",
       "      <td>6001400400</td>\n",
       "      <td>0.0</td>\n",
       "      <td>2020-01-01</td>\n",
       "    </tr>\n",
       "    <tr>\n",
       "      <th>4</th>\n",
       "      <td>6001400500</td>\n",
       "      <td>0.0</td>\n",
       "      <td>2020-01-01</td>\n",
       "    </tr>\n",
       "  </tbody>\n",
       "</table>\n",
       "</div>"
      ],
      "text/plain": [
       "        GEOID  smoke_pm       date\n",
       "0  6001400100       0.0 2020-01-01\n",
       "1  6001400200       0.0 2020-01-01\n",
       "2  6001400300       0.0 2020-01-01\n",
       "3  6001400400       0.0 2020-01-01\n",
       "4  6001400500       0.0 2020-01-01"
      ]
     },
     "execution_count": 52,
     "metadata": {},
     "output_type": "execute_result"
    }
   ],
   "source": [
    "pspm25.head()"
   ]
  },
  {
   "cell_type": "code",
   "execution_count": 53,
   "id": "4f92f96d-15fc-4272-a19d-256d9761eadf",
   "metadata": {
    "tags": []
   },
   "outputs": [],
   "source": [
    "df = df.merge(pspm25, right_on=[\"GEOID\", \"date\"], left_on=[\"FIPS_1\", \"time\"])"
   ]
  },
  {
   "cell_type": "code",
   "execution_count": 55,
   "id": "4a7e6155-1d8d-4463-b56c-d3c18cd63a91",
   "metadata": {
    "tags": []
   },
   "outputs": [],
   "source": [
    "aggregated_data[\"GEOID_s\"] = aggregated_data.GEOID"
   ]
  },
  {
   "cell_type": "code",
   "execution_count": 57,
   "id": "9415d935-9833-471b-8eb2-3d264fbbb51f",
   "metadata": {
    "tags": []
   },
   "outputs": [],
   "source": [
    "aggregated_data.GEOID = aggregated_data.GEOID.astype(int)"
   ]
  },
  {
   "cell_type": "code",
   "execution_count": 58,
   "id": "51b6c609-a9f9-4843-a705-9e83d4a488e8",
   "metadata": {
    "tags": []
   },
   "outputs": [
    {
     "data": {
      "text/plain": [
       "3174318"
      ]
     },
     "execution_count": 58,
     "metadata": {},
     "output_type": "execute_result"
    }
   ],
   "source": [
    "len(df)"
   ]
  },
  {
   "cell_type": "code",
   "execution_count": 59,
   "id": "d44ba6f7-089d-4de3-b83c-08454bdb26bb",
   "metadata": {
    "tags": []
   },
   "outputs": [],
   "source": [
    "df = df.merge(aggregated_data, on=[\"GEOID\", \"time\"])"
   ]
  },
  {
   "cell_type": "code",
   "execution_count": 60,
   "id": "f0ee323e-09ae-423e-9658-9d24dc67f376",
   "metadata": {
    "tags": []
   },
   "outputs": [],
   "source": [
    "df[\"temp\"] = (df[\"tmin\"] + df[\"tmax\"]) / 2"
   ]
  },
  {
   "cell_type": "code",
   "execution_count": 61,
   "id": "2591d710-8d4b-4075-b4b7-b483e30c9ad4",
   "metadata": {
    "tags": []
   },
   "outputs": [],
   "source": [
    "df = df.drop(columns=[\"FIPS_1\", \"date\", \"tmin\", \"tmax\"])"
   ]
  },
  {
   "cell_type": "code",
   "execution_count": 62,
   "id": "65fd2b41-9847-4a67-986d-5a864385777d",
   "metadata": {
    "tags": []
   },
   "outputs": [],
   "source": [
    "df = df[\n",
    "    [\n",
    "        \"time\",\n",
    "        \"GEOID_s\",\n",
    "        \"temp\",\n",
    "        \"rhum\",\n",
    "        \"wnd\",\n",
    "        \"smoke_pm\",\n",
    "        \"geometry\",\n",
    "        \"POPULATION_2020\",\n",
    "        \"POP20_SQMI\",\n",
    "    ]\n",
    "]"
   ]
  },
  {
   "cell_type": "code",
   "execution_count": 63,
   "id": "7b1a6409-8649-4a18-82e4-99ae5d1cfd51",
   "metadata": {
    "tags": []
   },
   "outputs": [],
   "source": [
    "df = df.rename(columns={\"GEOID_s\": \"GEOID\"})"
   ]
  },
  {
   "cell_type": "code",
   "execution_count": 64,
   "id": "185c2ab6-a7b0-4514-a5e8-97b2f94a3a74",
   "metadata": {
    "tags": []
   },
   "outputs": [],
   "source": [
    "df = df.drop(columns=[\"geometry\"])"
   ]
  },
  {
   "cell_type": "code",
   "execution_count": 65,
   "id": "88d0fb1a-c63f-465e-af1c-ce9a080425c4",
   "metadata": {
    "tags": []
   },
   "outputs": [
    {
     "data": {
      "text/plain": [
       "Index(['time', 'GEOID', 'temp', 'rhum', 'wnd', 'smoke_pm', 'POPULATION_2020',\n",
       "       'POP20_SQMI'],\n",
       "      dtype='object')"
      ]
     },
     "execution_count": 65,
     "metadata": {},
     "output_type": "execute_result"
    }
   ],
   "source": [
    "df.columns"
   ]
  },
  {
   "cell_type": "markdown",
   "id": "25bc496d-ae02-41eb-90f7-f86ef56d7cb9",
   "metadata": {},
   "source": [
    "## Get avg summer month values"
   ]
  },
  {
   "cell_type": "code",
   "execution_count": 66,
   "id": "b446597a-1ba8-4f1c-96b5-8c3fc220be2a",
   "metadata": {
    "tags": []
   },
   "outputs": [
    {
     "data": {
      "text/html": [
       "<div>\n",
       "<style scoped>\n",
       "    .dataframe tbody tr th:only-of-type {\n",
       "        vertical-align: middle;\n",
       "    }\n",
       "\n",
       "    .dataframe tbody tr th {\n",
       "        vertical-align: top;\n",
       "    }\n",
       "\n",
       "    .dataframe thead th {\n",
       "        text-align: right;\n",
       "    }\n",
       "</style>\n",
       "<table border=\"1\" class=\"dataframe\">\n",
       "  <thead>\n",
       "    <tr style=\"text-align: right;\">\n",
       "      <th></th>\n",
       "      <th>time</th>\n",
       "      <th>GEOID</th>\n",
       "      <th>temp</th>\n",
       "      <th>rhum</th>\n",
       "      <th>wnd</th>\n",
       "      <th>smoke_pm</th>\n",
       "      <th>POPULATION_2020</th>\n",
       "      <th>POP20_SQMI</th>\n",
       "    </tr>\n",
       "  </thead>\n",
       "  <tbody>\n",
       "    <tr>\n",
       "      <th>0</th>\n",
       "      <td>2020-01-01</td>\n",
       "      <td>06001400100</td>\n",
       "      <td>12.100000</td>\n",
       "      <td>88.699997</td>\n",
       "      <td>9.087395</td>\n",
       "      <td>0.0</td>\n",
       "      <td>3038</td>\n",
       "      <td>1133.6</td>\n",
       "    </tr>\n",
       "    <tr>\n",
       "      <th>1</th>\n",
       "      <td>2020-01-02</td>\n",
       "      <td>06001400100</td>\n",
       "      <td>11.699991</td>\n",
       "      <td>77.400002</td>\n",
       "      <td>10.237971</td>\n",
       "      <td>0.0</td>\n",
       "      <td>3038</td>\n",
       "      <td>1133.6</td>\n",
       "    </tr>\n",
       "    <tr>\n",
       "      <th>2</th>\n",
       "      <td>2020-01-03</td>\n",
       "      <td>06001400100</td>\n",
       "      <td>9.499994</td>\n",
       "      <td>100.000000</td>\n",
       "      <td>1.784081</td>\n",
       "      <td>0.0</td>\n",
       "      <td>3038</td>\n",
       "      <td>1133.6</td>\n",
       "    </tr>\n",
       "    <tr>\n",
       "      <th>3</th>\n",
       "      <td>2020-01-04</td>\n",
       "      <td>06001400100</td>\n",
       "      <td>9.499994</td>\n",
       "      <td>93.699997</td>\n",
       "      <td>3.989018</td>\n",
       "      <td>0.0</td>\n",
       "      <td>3038</td>\n",
       "      <td>1133.6</td>\n",
       "    </tr>\n",
       "    <tr>\n",
       "      <th>4</th>\n",
       "      <td>2020-01-05</td>\n",
       "      <td>06001400100</td>\n",
       "      <td>9.900003</td>\n",
       "      <td>75.000000</td>\n",
       "      <td>10.107844</td>\n",
       "      <td>0.0</td>\n",
       "      <td>3038</td>\n",
       "      <td>1133.6</td>\n",
       "    </tr>\n",
       "  </tbody>\n",
       "</table>\n",
       "</div>"
      ],
      "text/plain": [
       "        time        GEOID       temp        rhum        wnd  smoke_pm  \\\n",
       "0 2020-01-01  06001400100  12.100000   88.699997   9.087395       0.0   \n",
       "1 2020-01-02  06001400100  11.699991   77.400002  10.237971       0.0   \n",
       "2 2020-01-03  06001400100   9.499994  100.000000   1.784081       0.0   \n",
       "3 2020-01-04  06001400100   9.499994   93.699997   3.989018       0.0   \n",
       "4 2020-01-05  06001400100   9.900003   75.000000  10.107844       0.0   \n",
       "\n",
       "   POPULATION_2020  POP20_SQMI  \n",
       "0             3038      1133.6  \n",
       "1             3038      1133.6  \n",
       "2             3038      1133.6  \n",
       "3             3038      1133.6  \n",
       "4             3038      1133.6  "
      ]
     },
     "execution_count": 66,
     "metadata": {},
     "output_type": "execute_result"
    }
   ],
   "source": [
    "df.head()"
   ]
  },
  {
   "cell_type": "code",
   "execution_count": 67,
   "id": "2c7ce64e-1707-4609-ad00-485d7afd6ef5",
   "metadata": {
    "tags": []
   },
   "outputs": [],
   "source": [
    "df[\"month\"] = df[\"time\"].dt.month\n",
    "\n",
    "\n",
    "# Function to calculate the monthly averages for each variable\n",
    "def calculate_monthly_averages(df, variable):\n",
    "    grouped = df.groupby([\"GEOID\", \"month\"])[variable].mean().reset_index()\n",
    "    pivoted = grouped.pivot_table(index=\"GEOID\", columns=\"month\", values=variable)\n",
    "    pivoted = pivoted.rename(\n",
    "        columns={6: \"jun\", 7: \"jul\", 8: \"aug\", 9: \"sep\", 10: \"oct\"}\n",
    "    )\n",
    "    pivoted = pivoted.drop(columns=[1, 2, 3, 4, 5, 11, 12])\n",
    "    pivoted.columns = [\n",
    "        f\"avg_{variable}_{month}\" for month in [\"jun\", \"jul\", \"aug\", \"sep\", \"oct\"]\n",
    "    ]\n",
    "    return pivoted"
   ]
  },
  {
   "cell_type": "code",
   "execution_count": 68,
   "id": "363caef8-91d1-4d92-9d76-b27884583c95",
   "metadata": {
    "tags": []
   },
   "outputs": [],
   "source": [
    "tmin_monthly = calculate_monthly_averages(df, \"temp\")\n",
    "tmax_monthly = calculate_monthly_averages(df, \"rhum\")\n",
    "rhum_monthly = calculate_monthly_averages(df, \"wnd\")\n",
    "smokepm_monthly = calculate_monthly_averages(df, \"smoke_pm\")\n",
    "\n",
    "result = pd.concat([tmin_monthly, tmax_monthly, rhum_monthly, smokepm_monthly], axis=1)\n",
    "result.reset_index(inplace=True)"
   ]
  },
  {
   "cell_type": "code",
   "execution_count": 69,
   "id": "b94efa23-3470-46ff-88ba-73080d6e5897",
   "metadata": {
    "tags": []
   },
   "outputs": [
    {
     "name": "stderr",
     "output_type": "stream",
     "text": [
      "/var/folders/b_/vlxgm9n10bz569rffzmcc5dc0000gn/T/ipykernel_57806/4001476570.py:1: FutureWarning: Indexing with multiple keys (implicitly converted to a tuple of keys) will be deprecated, use a list instead.\n",
      "  df = df.groupby(\"GEOID\")[\"POPULATION_2020\",\"POP20_SQMI\"].first().reset_index()\n"
     ]
    }
   ],
   "source": [
    "df = df.groupby(\"GEOID\")[\"POPULATION_2020\", \"POP20_SQMI\"].first().reset_index()"
   ]
  },
  {
   "cell_type": "code",
   "execution_count": 70,
   "id": "8ebd8742-6be7-4fc0-9560-8b2e87f61b41",
   "metadata": {
    "tags": []
   },
   "outputs": [],
   "source": [
    "df = df.merge(result, on=\"GEOID\")"
   ]
  },
  {
   "cell_type": "code",
   "execution_count": 71,
   "id": "7c0ff514-43f6-43a1-b1eb-91d8f6447de3",
   "metadata": {
    "tags": []
   },
   "outputs": [
    {
     "data": {
      "text/html": [
       "<div>\n",
       "<style scoped>\n",
       "    .dataframe tbody tr th:only-of-type {\n",
       "        vertical-align: middle;\n",
       "    }\n",
       "\n",
       "    .dataframe tbody tr th {\n",
       "        vertical-align: top;\n",
       "    }\n",
       "\n",
       "    .dataframe thead th {\n",
       "        text-align: right;\n",
       "    }\n",
       "</style>\n",
       "<table border=\"1\" class=\"dataframe\">\n",
       "  <thead>\n",
       "    <tr style=\"text-align: right;\">\n",
       "      <th></th>\n",
       "      <th>GEOID</th>\n",
       "      <th>POPULATION_2020</th>\n",
       "      <th>POP20_SQMI</th>\n",
       "      <th>avg_temp_jun</th>\n",
       "      <th>avg_temp_jul</th>\n",
       "      <th>avg_temp_aug</th>\n",
       "      <th>avg_temp_sep</th>\n",
       "      <th>avg_temp_oct</th>\n",
       "      <th>avg_rhum_jun</th>\n",
       "      <th>avg_rhum_jul</th>\n",
       "      <th>...</th>\n",
       "      <th>avg_wnd_jun</th>\n",
       "      <th>avg_wnd_jul</th>\n",
       "      <th>avg_wnd_aug</th>\n",
       "      <th>avg_wnd_sep</th>\n",
       "      <th>avg_wnd_oct</th>\n",
       "      <th>avg_smoke_pm_jun</th>\n",
       "      <th>avg_smoke_pm_jul</th>\n",
       "      <th>avg_smoke_pm_aug</th>\n",
       "      <th>avg_smoke_pm_sep</th>\n",
       "      <th>avg_smoke_pm_oct</th>\n",
       "    </tr>\n",
       "  </thead>\n",
       "  <tbody>\n",
       "    <tr>\n",
       "      <th>0</th>\n",
       "      <td>06001400100</td>\n",
       "      <td>3038</td>\n",
       "      <td>1133.6</td>\n",
       "      <td>17.950001</td>\n",
       "      <td>17.862903</td>\n",
       "      <td>20.890323</td>\n",
       "      <td>21.330002</td>\n",
       "      <td>20.487098</td>\n",
       "      <td>78.096667</td>\n",
       "      <td>84.36129</td>\n",
       "      <td>...</td>\n",
       "      <td>6.959335</td>\n",
       "      <td>6.010748</td>\n",
       "      <td>5.445568</td>\n",
       "      <td>4.542623</td>\n",
       "      <td>5.984679</td>\n",
       "      <td>0.0</td>\n",
       "      <td>0.133076</td>\n",
       "      <td>6.670296</td>\n",
       "      <td>25.23939</td>\n",
       "      <td>5.944235</td>\n",
       "    </tr>\n",
       "    <tr>\n",
       "      <th>1</th>\n",
       "      <td>06001400200</td>\n",
       "      <td>2001</td>\n",
       "      <td>8700.0</td>\n",
       "      <td>17.950000</td>\n",
       "      <td>17.649998</td>\n",
       "      <td>19.579032</td>\n",
       "      <td>21.013331</td>\n",
       "      <td>20.125807</td>\n",
       "      <td>79.640000</td>\n",
       "      <td>84.20000</td>\n",
       "      <td>...</td>\n",
       "      <td>6.959335</td>\n",
       "      <td>6.010748</td>\n",
       "      <td>5.445568</td>\n",
       "      <td>4.542623</td>\n",
       "      <td>5.984679</td>\n",
       "      <td>0.0</td>\n",
       "      <td>0.145010</td>\n",
       "      <td>6.921538</td>\n",
       "      <td>25.34102</td>\n",
       "      <td>6.179484</td>\n",
       "    </tr>\n",
       "    <tr>\n",
       "      <th>2</th>\n",
       "      <td>06001400300</td>\n",
       "      <td>5504</td>\n",
       "      <td>12800.0</td>\n",
       "      <td>17.950000</td>\n",
       "      <td>17.649998</td>\n",
       "      <td>19.579032</td>\n",
       "      <td>21.013331</td>\n",
       "      <td>20.125807</td>\n",
       "      <td>79.640000</td>\n",
       "      <td>84.20000</td>\n",
       "      <td>...</td>\n",
       "      <td>6.959335</td>\n",
       "      <td>6.010748</td>\n",
       "      <td>5.445568</td>\n",
       "      <td>4.542623</td>\n",
       "      <td>5.984679</td>\n",
       "      <td>0.0</td>\n",
       "      <td>0.145010</td>\n",
       "      <td>6.921538</td>\n",
       "      <td>25.34102</td>\n",
       "      <td>6.179484</td>\n",
       "    </tr>\n",
       "    <tr>\n",
       "      <th>3</th>\n",
       "      <td>06001400400</td>\n",
       "      <td>4112</td>\n",
       "      <td>14685.7</td>\n",
       "      <td>17.950000</td>\n",
       "      <td>17.649998</td>\n",
       "      <td>19.579032</td>\n",
       "      <td>21.013331</td>\n",
       "      <td>20.125807</td>\n",
       "      <td>79.640000</td>\n",
       "      <td>84.20000</td>\n",
       "      <td>...</td>\n",
       "      <td>6.959335</td>\n",
       "      <td>6.010748</td>\n",
       "      <td>5.445568</td>\n",
       "      <td>4.542623</td>\n",
       "      <td>5.984679</td>\n",
       "      <td>0.0</td>\n",
       "      <td>0.145010</td>\n",
       "      <td>6.921538</td>\n",
       "      <td>25.34102</td>\n",
       "      <td>6.179484</td>\n",
       "    </tr>\n",
       "    <tr>\n",
       "      <th>4</th>\n",
       "      <td>06001400500</td>\n",
       "      <td>3644</td>\n",
       "      <td>15843.5</td>\n",
       "      <td>17.950000</td>\n",
       "      <td>17.649998</td>\n",
       "      <td>19.579032</td>\n",
       "      <td>21.013331</td>\n",
       "      <td>20.125807</td>\n",
       "      <td>79.640000</td>\n",
       "      <td>84.20000</td>\n",
       "      <td>...</td>\n",
       "      <td>6.959335</td>\n",
       "      <td>6.010748</td>\n",
       "      <td>5.445568</td>\n",
       "      <td>4.542623</td>\n",
       "      <td>5.984679</td>\n",
       "      <td>0.0</td>\n",
       "      <td>0.145010</td>\n",
       "      <td>6.921538</td>\n",
       "      <td>25.34102</td>\n",
       "      <td>6.179484</td>\n",
       "    </tr>\n",
       "  </tbody>\n",
       "</table>\n",
       "<p>5 rows × 23 columns</p>\n",
       "</div>"
      ],
      "text/plain": [
       "         GEOID  POPULATION_2020  POP20_SQMI  avg_temp_jun  avg_temp_jul  \\\n",
       "0  06001400100             3038      1133.6     17.950001     17.862903   \n",
       "1  06001400200             2001      8700.0     17.950000     17.649998   \n",
       "2  06001400300             5504     12800.0     17.950000     17.649998   \n",
       "3  06001400400             4112     14685.7     17.950000     17.649998   \n",
       "4  06001400500             3644     15843.5     17.950000     17.649998   \n",
       "\n",
       "   avg_temp_aug  avg_temp_sep  avg_temp_oct  avg_rhum_jun  avg_rhum_jul  ...  \\\n",
       "0     20.890323     21.330002     20.487098     78.096667      84.36129  ...   \n",
       "1     19.579032     21.013331     20.125807     79.640000      84.20000  ...   \n",
       "2     19.579032     21.013331     20.125807     79.640000      84.20000  ...   \n",
       "3     19.579032     21.013331     20.125807     79.640000      84.20000  ...   \n",
       "4     19.579032     21.013331     20.125807     79.640000      84.20000  ...   \n",
       "\n",
       "   avg_wnd_jun  avg_wnd_jul  avg_wnd_aug  avg_wnd_sep  avg_wnd_oct  \\\n",
       "0     6.959335     6.010748     5.445568     4.542623     5.984679   \n",
       "1     6.959335     6.010748     5.445568     4.542623     5.984679   \n",
       "2     6.959335     6.010748     5.445568     4.542623     5.984679   \n",
       "3     6.959335     6.010748     5.445568     4.542623     5.984679   \n",
       "4     6.959335     6.010748     5.445568     4.542623     5.984679   \n",
       "\n",
       "   avg_smoke_pm_jun  avg_smoke_pm_jul  avg_smoke_pm_aug  avg_smoke_pm_sep  \\\n",
       "0               0.0          0.133076          6.670296          25.23939   \n",
       "1               0.0          0.145010          6.921538          25.34102   \n",
       "2               0.0          0.145010          6.921538          25.34102   \n",
       "3               0.0          0.145010          6.921538          25.34102   \n",
       "4               0.0          0.145010          6.921538          25.34102   \n",
       "\n",
       "   avg_smoke_pm_oct  \n",
       "0          5.944235  \n",
       "1          6.179484  \n",
       "2          6.179484  \n",
       "3          6.179484  \n",
       "4          6.179484  \n",
       "\n",
       "[5 rows x 23 columns]"
      ]
     },
     "execution_count": 71,
     "metadata": {},
     "output_type": "execute_result"
    }
   ],
   "source": [
    "df.head()"
   ]
  },
  {
   "cell_type": "code",
   "execution_count": 72,
   "id": "c403267f-e81f-4fb2-b403-90aa98069430",
   "metadata": {
    "tags": []
   },
   "outputs": [],
   "source": [
    "df.to_csv(\"../data/climate_exposure_ca_2020.csv\", index=False)"
   ]
  }
 ],
 "metadata": {
  "kernelspec": {
   "display_name": "Python 3 (ipykernel)",
   "language": "python",
   "name": "python3"
  },
  "language_info": {
   "codemirror_mode": {
    "name": "ipython",
    "version": 3
   },
   "file_extension": ".py",
   "mimetype": "text/x-python",
   "name": "python",
   "nbconvert_exporter": "python",
   "pygments_lexer": "ipython3",
   "version": "3.10.8"
  }
 },
 "nbformat": 4,
 "nbformat_minor": 5
}
