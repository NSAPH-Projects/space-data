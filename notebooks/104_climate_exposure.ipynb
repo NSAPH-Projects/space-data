{
 "cells": [
  {
   "cell_type": "markdown",
   "id": "5361f7c5-b2a9-4ec0-b33b-e17aefecaa14",
   "metadata": {
    "tags": []
   },
   "source": [
    "# Climate Exposure Dataset\n",
    "\n",
    "- Contains information on climate exposure variables: temperature, humidity, smoke PM and wind speed\n",
    "- Contains information on population counts and population density\n",
    "- Cover the year 2020\n",
    "- Spatial coverage: California (census tract)"
   ]
  },
  {
   "cell_type": "code",
   "execution_count": 293,
   "id": "ae36aca5-d68b-4937-b2b9-9e6c922050a2",
   "metadata": {
    "tags": []
   },
   "outputs": [],
   "source": [
    "import numpy as np\n",
    "import pandas as pd\n",
    "import xarray as xr\n",
    "import seaborn as sns\n",
    "import geopandas as gpd\n",
    "import pandas as pd\n",
    "from shapely.geometry import Point\n",
    "from shapely.geometry import Polygon"
   ]
  },
  {
   "attachments": {},
   "cell_type": "markdown",
   "id": "701abd52",
   "metadata": {},
   "source": [
    "## Load temperature and humidity"
   ]
  },
  {
   "cell_type": "code",
   "execution_count": 294,
   "id": "7c7833c4",
   "metadata": {},
   "outputs": [],
   "source": [
    "# temp data is from https://prism.oregonstate.edu\n",
    "df = pd.read_parquet(\"data/esri_tmin_tmax_pm25_merged.parquet\")\n",
    "rhum = xr.open_dataset(\"data/esri/RelHum_2006_2021_Cali.nc\")\n",
    "rhum = rhum[[\"FIPS\", \"RELATIVE_HUMIDITY_NONE_SPATIAL_NEIGHBORS\"]].to_dataframe()\n",
    "rhum = rhum.groupby([\"time\", \"FIPS\"]).first()\n",
    "df_ = df.join(rhum, rsuffix=\"_rhum\")\n",
    "df_ = df_.rename(columns={\"RELATIVE_HUMIDITY_NONE_SPATIAL_NEIGHBORS\": \"rhum\"})\n",
    "df = df_.reset_index()"
   ]
  },
  {
   "cell_type": "code",
   "execution_count": 295,
   "id": "2a657311",
   "metadata": {},
   "outputs": [],
   "source": [
    "df = df[df[\"time\"].dt.year == 2020]\n",
    "df = df.drop(columns=\"pm25\")\n",
    "df.FIPS = df.FIPS.astype(int)"
   ]
  },
  {
   "cell_type": "code",
   "execution_count": 296,
   "id": "7f59f80f",
   "metadata": {},
   "outputs": [],
   "source": [
    "gdf = gpd.read_file(\"data/esri/FIPSMapping.gdb\")\n",
    "gdf[\"FIPS_1\"] = gdf.FIPS_1.astype(int)"
   ]
  },
  {
   "cell_type": "code",
   "execution_count": 297,
   "id": "18f67eb8",
   "metadata": {},
   "outputs": [],
   "source": [
    "df = df.merge(gdf, left_on=\"FIPS\", right_on=\"FIPS\")"
   ]
  },
  {
   "cell_type": "code",
   "execution_count": 299,
   "id": "eeabebcc",
   "metadata": {},
   "outputs": [
    {
     "data": {
      "text/html": [
       "<div>\n",
       "<style scoped>\n",
       "    .dataframe tbody tr th:only-of-type {\n",
       "        vertical-align: middle;\n",
       "    }\n",
       "\n",
       "    .dataframe tbody tr th {\n",
       "        vertical-align: top;\n",
       "    }\n",
       "\n",
       "    .dataframe thead th {\n",
       "        text-align: right;\n",
       "    }\n",
       "</style>\n",
       "<table border=\"1\" class=\"dataframe\">\n",
       "  <thead>\n",
       "    <tr style=\"text-align: right;\">\n",
       "      <th></th>\n",
       "      <th>time</th>\n",
       "      <th>FIPS</th>\n",
       "      <th>tmax</th>\n",
       "      <th>tmin</th>\n",
       "      <th>rhum</th>\n",
       "      <th>lat</th>\n",
       "      <th>lon</th>\n",
       "      <th>FIPS_1</th>\n",
       "      <th>Shape_Length</th>\n",
       "      <th>Shape_Area</th>\n",
       "      <th>geometry</th>\n",
       "    </tr>\n",
       "  </thead>\n",
       "  <tbody>\n",
       "    <tr>\n",
       "      <th>0</th>\n",
       "      <td>2020-01-01</td>\n",
       "      <td>1765</td>\n",
       "      <td>16.550013</td>\n",
       "      <td>7.649988</td>\n",
       "      <td>88.699997</td>\n",
       "      <td>37.867656</td>\n",
       "      <td>-122.231882</td>\n",
       "      <td>6001400100</td>\n",
       "      <td>14242.190056</td>\n",
       "      <td>6.945876e+06</td>\n",
       "      <td>MULTIPOLYGON (((-2257301.793 356496.510, -2257...</td>\n",
       "    </tr>\n",
       "    <tr>\n",
       "      <th>1</th>\n",
       "      <td>2020-01-02</td>\n",
       "      <td>1765</td>\n",
       "      <td>15.749994</td>\n",
       "      <td>7.649988</td>\n",
       "      <td>77.400002</td>\n",
       "      <td>37.867656</td>\n",
       "      <td>-122.231882</td>\n",
       "      <td>6001400100</td>\n",
       "      <td>14242.190056</td>\n",
       "      <td>6.945876e+06</td>\n",
       "      <td>MULTIPOLYGON (((-2257301.793 356496.510, -2257...</td>\n",
       "    </tr>\n",
       "    <tr>\n",
       "      <th>2</th>\n",
       "      <td>2020-01-03</td>\n",
       "      <td>1765</td>\n",
       "      <td>12.850000</td>\n",
       "      <td>6.149988</td>\n",
       "      <td>100.000000</td>\n",
       "      <td>37.867656</td>\n",
       "      <td>-122.231882</td>\n",
       "      <td>6001400100</td>\n",
       "      <td>14242.190056</td>\n",
       "      <td>6.945876e+06</td>\n",
       "      <td>MULTIPOLYGON (((-2257301.793 356496.510, -2257...</td>\n",
       "    </tr>\n",
       "    <tr>\n",
       "      <th>3</th>\n",
       "      <td>2020-01-04</td>\n",
       "      <td>1765</td>\n",
       "      <td>13.749994</td>\n",
       "      <td>5.249994</td>\n",
       "      <td>93.699997</td>\n",
       "      <td>37.867656</td>\n",
       "      <td>-122.231882</td>\n",
       "      <td>6001400100</td>\n",
       "      <td>14242.190056</td>\n",
       "      <td>6.945876e+06</td>\n",
       "      <td>MULTIPOLYGON (((-2257301.793 356496.510, -2257...</td>\n",
       "    </tr>\n",
       "    <tr>\n",
       "      <th>4</th>\n",
       "      <td>2020-01-05</td>\n",
       "      <td>1765</td>\n",
       "      <td>13.249994</td>\n",
       "      <td>6.550012</td>\n",
       "      <td>75.000000</td>\n",
       "      <td>37.867656</td>\n",
       "      <td>-122.231882</td>\n",
       "      <td>6001400100</td>\n",
       "      <td>14242.190056</td>\n",
       "      <td>6.945876e+06</td>\n",
       "      <td>MULTIPOLYGON (((-2257301.793 356496.510, -2257...</td>\n",
       "    </tr>\n",
       "  </tbody>\n",
       "</table>\n",
       "</div>"
      ],
      "text/plain": [
       "        time  FIPS       tmax      tmin        rhum        lat         lon  \\\n",
       "0 2020-01-01  1765  16.550013  7.649988   88.699997  37.867656 -122.231882   \n",
       "1 2020-01-02  1765  15.749994  7.649988   77.400002  37.867656 -122.231882   \n",
       "2 2020-01-03  1765  12.850000  6.149988  100.000000  37.867656 -122.231882   \n",
       "3 2020-01-04  1765  13.749994  5.249994   93.699997  37.867656 -122.231882   \n",
       "4 2020-01-05  1765  13.249994  6.550012   75.000000  37.867656 -122.231882   \n",
       "\n",
       "       FIPS_1  Shape_Length    Shape_Area  \\\n",
       "0  6001400100  14242.190056  6.945876e+06   \n",
       "1  6001400100  14242.190056  6.945876e+06   \n",
       "2  6001400100  14242.190056  6.945876e+06   \n",
       "3  6001400100  14242.190056  6.945876e+06   \n",
       "4  6001400100  14242.190056  6.945876e+06   \n",
       "\n",
       "                                            geometry  \n",
       "0  MULTIPOLYGON (((-2257301.793 356496.510, -2257...  \n",
       "1  MULTIPOLYGON (((-2257301.793 356496.510, -2257...  \n",
       "2  MULTIPOLYGON (((-2257301.793 356496.510, -2257...  \n",
       "3  MULTIPOLYGON (((-2257301.793 356496.510, -2257...  \n",
       "4  MULTIPOLYGON (((-2257301.793 356496.510, -2257...  "
      ]
     },
     "execution_count": 299,
     "metadata": {},
     "output_type": "execute_result"
    }
   ],
   "source": [
    "df.head()"
   ]
  },
  {
   "cell_type": "code",
   "execution_count": 300,
   "id": "8a29d7f3",
   "metadata": {},
   "outputs": [],
   "source": [
    "df = df.drop(columns=[\"FIPS\", \"Shape_Length\", \"Shape_Area\"])"
   ]
  },
  {
   "cell_type": "markdown",
   "id": "902cd5c0",
   "metadata": {},
   "source": [
    "## Add wildfire smoke PM2.5"
   ]
  },
  {
   "cell_type": "code",
   "execution_count": 301,
   "id": "69291a8e",
   "metadata": {},
   "outputs": [],
   "source": [
    "# data from https://github.com/echolab-stanford/daily-10km-smokePM\n",
    "pspm25 = pd.read_csv(\"data/smoke_pm_2020.csv\")\n",
    "pspm25[\"date\"] = pd.to_datetime(pspm25[\"date\"])\n",
    "pspm25.head()\n",
    "df = df.merge(pspm25, right_on=[\"GEOID\", \"date\"], left_on=[\"FIPS_1\", \"time\"])"
   ]
  },
  {
   "cell_type": "code",
   "execution_count": 302,
   "id": "1cc91162",
   "metadata": {},
   "outputs": [],
   "source": [
    "df = df.drop(columns=[\"FIPS_1\", \"date\", \"tmin\"])"
   ]
  },
  {
   "cell_type": "code",
   "execution_count": 303,
   "id": "e6831498",
   "metadata": {},
   "outputs": [
    {
     "data": {
      "text/html": [
       "<div>\n",
       "<style scoped>\n",
       "    .dataframe tbody tr th:only-of-type {\n",
       "        vertical-align: middle;\n",
       "    }\n",
       "\n",
       "    .dataframe tbody tr th {\n",
       "        vertical-align: top;\n",
       "    }\n",
       "\n",
       "    .dataframe thead th {\n",
       "        text-align: right;\n",
       "    }\n",
       "</style>\n",
       "<table border=\"1\" class=\"dataframe\">\n",
       "  <thead>\n",
       "    <tr style=\"text-align: right;\">\n",
       "      <th></th>\n",
       "      <th>time</th>\n",
       "      <th>tmax</th>\n",
       "      <th>rhum</th>\n",
       "      <th>lat</th>\n",
       "      <th>lon</th>\n",
       "      <th>geometry</th>\n",
       "      <th>GEOID</th>\n",
       "      <th>smoke_pm</th>\n",
       "    </tr>\n",
       "  </thead>\n",
       "  <tbody>\n",
       "    <tr>\n",
       "      <th>0</th>\n",
       "      <td>2020-01-01</td>\n",
       "      <td>16.550013</td>\n",
       "      <td>88.699997</td>\n",
       "      <td>37.867656</td>\n",
       "      <td>-122.231882</td>\n",
       "      <td>MULTIPOLYGON (((-2257301.793 356496.510, -2257...</td>\n",
       "      <td>6001400100</td>\n",
       "      <td>0.0</td>\n",
       "    </tr>\n",
       "    <tr>\n",
       "      <th>1</th>\n",
       "      <td>2020-01-02</td>\n",
       "      <td>15.749994</td>\n",
       "      <td>77.400002</td>\n",
       "      <td>37.867656</td>\n",
       "      <td>-122.231882</td>\n",
       "      <td>MULTIPOLYGON (((-2257301.793 356496.510, -2257...</td>\n",
       "      <td>6001400100</td>\n",
       "      <td>0.0</td>\n",
       "    </tr>\n",
       "    <tr>\n",
       "      <th>2</th>\n",
       "      <td>2020-01-03</td>\n",
       "      <td>12.850000</td>\n",
       "      <td>100.000000</td>\n",
       "      <td>37.867656</td>\n",
       "      <td>-122.231882</td>\n",
       "      <td>MULTIPOLYGON (((-2257301.793 356496.510, -2257...</td>\n",
       "      <td>6001400100</td>\n",
       "      <td>0.0</td>\n",
       "    </tr>\n",
       "    <tr>\n",
       "      <th>3</th>\n",
       "      <td>2020-01-04</td>\n",
       "      <td>13.749994</td>\n",
       "      <td>93.699997</td>\n",
       "      <td>37.867656</td>\n",
       "      <td>-122.231882</td>\n",
       "      <td>MULTIPOLYGON (((-2257301.793 356496.510, -2257...</td>\n",
       "      <td>6001400100</td>\n",
       "      <td>0.0</td>\n",
       "    </tr>\n",
       "    <tr>\n",
       "      <th>4</th>\n",
       "      <td>2020-01-05</td>\n",
       "      <td>13.249994</td>\n",
       "      <td>75.000000</td>\n",
       "      <td>37.867656</td>\n",
       "      <td>-122.231882</td>\n",
       "      <td>MULTIPOLYGON (((-2257301.793 356496.510, -2257...</td>\n",
       "      <td>6001400100</td>\n",
       "      <td>0.0</td>\n",
       "    </tr>\n",
       "  </tbody>\n",
       "</table>\n",
       "</div>"
      ],
      "text/plain": [
       "        time       tmax        rhum        lat         lon  \\\n",
       "0 2020-01-01  16.550013   88.699997  37.867656 -122.231882   \n",
       "1 2020-01-02  15.749994   77.400002  37.867656 -122.231882   \n",
       "2 2020-01-03  12.850000  100.000000  37.867656 -122.231882   \n",
       "3 2020-01-04  13.749994   93.699997  37.867656 -122.231882   \n",
       "4 2020-01-05  13.249994   75.000000  37.867656 -122.231882   \n",
       "\n",
       "                                            geometry       GEOID  smoke_pm  \n",
       "0  MULTIPOLYGON (((-2257301.793 356496.510, -2257...  6001400100       0.0  \n",
       "1  MULTIPOLYGON (((-2257301.793 356496.510, -2257...  6001400100       0.0  \n",
       "2  MULTIPOLYGON (((-2257301.793 356496.510, -2257...  6001400100       0.0  \n",
       "3  MULTIPOLYGON (((-2257301.793 356496.510, -2257...  6001400100       0.0  \n",
       "4  MULTIPOLYGON (((-2257301.793 356496.510, -2257...  6001400100       0.0  "
      ]
     },
     "execution_count": 303,
     "metadata": {},
     "output_type": "execute_result"
    }
   ],
   "source": [
    "df.head()"
   ]
  },
  {
   "attachments": {},
   "cell_type": "markdown",
   "id": "75af9c66",
   "metadata": {},
   "source": [
    "## Add wind"
   ]
  },
  {
   "cell_type": "code",
   "execution_count": 304,
   "id": "55d0bc11",
   "metadata": {},
   "outputs": [],
   "source": [
    "# wind data comes from: https://www.ncei.noaa.gov/access/monitoring/wind/\n",
    "windu = xr.open_dataset(\"data/uwnd.10m.gauss.2020.nc\")\n",
    "windv = xr.open_dataset(\"data/vwnd.10m.gauss.2020.nc\")\n",
    "dfwindu = windu[\"uwnd\"].to_dataframe().reset_index()\n",
    "dfwindv = windv[\"vwnd\"].to_dataframe().reset_index()\n",
    "dfwindu[\"lon\"] = ((dfwindu[\"lon\"] + 180) % 360) - 180\n",
    "dfwindv[\"lon\"] = ((dfwindv[\"lon\"] + 180) % 360) - 180\n",
    "dfwindu[\"GEOID\"] = (\n",
    "    dfwindu[\"lon\"].round(3).astype(str) + \"_\" + dfwindu[\"lat\"].round(3).astype(str)\n",
    ")\n",
    "dfwindv[\"GEOID\"] = (\n",
    "    dfwindv[\"lon\"].round(3).astype(str) + \"_\" + dfwindv[\"lat\"].round(3).astype(str)\n",
    ")"
   ]
  },
  {
   "cell_type": "markdown",
   "id": "cd42dc4e",
   "metadata": {},
   "source": [
    "## Get avg summer month values"
   ]
  },
  {
   "cell_type": "code",
   "execution_count": 305,
   "id": "ce481a31",
   "metadata": {},
   "outputs": [],
   "source": [
    "df[\"month\"] = df[\"time\"].dt.month\n",
    "dfwindu[\"month\"] = dfwindu[\"time\"].dt.month\n",
    "dfwindv[\"month\"] = dfwindv[\"time\"].dt.month\n",
    "\n",
    "\n",
    "# Function to calculate the monthly averages for each variable\n",
    "def calculate_monthly_averages(df, variable):\n",
    "    grouped = df.groupby([\"GEOID\", \"month\"])[variable].mean().reset_index()\n",
    "    pivoted = grouped.pivot_table(index=\"GEOID\", columns=\"month\", values=variable)\n",
    "    pivoted = pivoted.rename(\n",
    "        columns={6: \"jun\", 7: \"jul\", 8: \"aug\", 9: \"sep\", 10: \"oct\"}\n",
    "    )\n",
    "    pivoted = pivoted.drop(columns=[1, 2, 3, 4, 5, 11, 12])\n",
    "    pivoted.columns = [\n",
    "        f\"avg_{variable}_{month}\" for month in [\"jun\", \"jul\", \"aug\", \"sep\", \"oct\"]\n",
    "    ]\n",
    "    return pivoted"
   ]
  },
  {
   "cell_type": "code",
   "execution_count": 306,
   "id": "5fa39567",
   "metadata": {},
   "outputs": [],
   "source": [
    "tmax_monthly = calculate_monthly_averages(df, \"tmax\")\n",
    "rhum_monthly = calculate_monthly_averages(df, \"rhum\")\n",
    "smokepm_monthly = calculate_monthly_averages(df, \"smoke_pm\")"
   ]
  },
  {
   "cell_type": "code",
   "execution_count": 324,
   "id": "ccff167d",
   "metadata": {},
   "outputs": [],
   "source": [
    "result = pd.concat([tmax_monthly, rhum_monthly, smokepm_monthly], axis=1)\n",
    "result.reset_index(inplace=True)"
   ]
  },
  {
   "cell_type": "code",
   "execution_count": 307,
   "id": "8d673fe8",
   "metadata": {},
   "outputs": [],
   "source": [
    "dfwindu = dfwindu.rename(columns={\"uwnd\": \"wnd\"})\n",
    "dfwindv = dfwindv.rename(columns={\"vwnd\": \"wnd\"})\n",
    "dfwindu_monthly = calculate_monthly_averages(dfwindu, \"wnd\")\n",
    "dfwindv_monthly = calculate_monthly_averages(dfwindv, \"wnd\")"
   ]
  },
  {
   "cell_type": "code",
   "execution_count": 308,
   "id": "2d2bb8a5",
   "metadata": {},
   "outputs": [],
   "source": [
    "wnd = df.groupby([\"lon\", \"lat\"])[\"GEOID\"].first().reset_index()"
   ]
  },
  {
   "cell_type": "code",
   "execution_count": 309,
   "id": "4df658cd",
   "metadata": {},
   "outputs": [],
   "source": [
    "helper = dfwindu.groupby(\"GEOID\")[[\"lon\", \"lat\"]].first()\n",
    "\n",
    "dfwindu_monthly = dfwindu_monthly.merge(helper, on=\"GEOID\")\n",
    "dfwindv_monthly = dfwindv_monthly.merge(helper, on=\"GEOID\")\n",
    "\n",
    "from sklearn.model_selection import train_test_split\n",
    "from sklearn.neighbors import KNeighborsRegressor\n",
    "\n",
    "for var in [\"avg_wnd_jun\", \"avg_wnd_jul\", \"avg_wnd_aug\", \"avg_wnd_sep\", \"avg_wnd_oct\"]:\n",
    "    # Set number of neighbors to look for\n",
    "    neighbors = 8\n",
    "    # Initialize KNN regressor\n",
    "    knn_regressor_windu = KNeighborsRegressor(n_neighbors=neighbors, weights=\"distance\")\n",
    "    knn_regressor_windv = KNeighborsRegressor(n_neighbors=neighbors, weights=\"distance\")\n",
    "\n",
    "    knn_regressor_windu.fit(\n",
    "        dfwindu_monthly[[\"lon\", \"lat\"]].values, dfwindu_monthly[[var]].values\n",
    "    )\n",
    "    knn_regressor_windv.fit(\n",
    "        dfwindv_monthly[[\"lon\", \"lat\"]].values, dfwindv_monthly[[var]].values\n",
    "    )\n",
    "\n",
    "    windu_pred = knn_regressor_windu.predict(wnd[[\"lon\", \"lat\"]].values)\n",
    "    windv_pred = knn_regressor_windv.predict(wnd[[\"lon\", \"lat\"]].values)\n",
    "\n",
    "    wnd[var] = np.sqrt(windu_pred**2 + windv_pred**2)"
   ]
  },
  {
   "cell_type": "code",
   "execution_count": 310,
   "id": "1ddd40c3",
   "metadata": {},
   "outputs": [],
   "source": [
    "wnd = wnd.drop(columns=[\"lon\", \"lat\"])"
   ]
  },
  {
   "cell_type": "code",
   "execution_count": 311,
   "id": "e432a640",
   "metadata": {},
   "outputs": [
    {
     "data": {
      "text/plain": [
       "(8673, 6)"
      ]
     },
     "execution_count": 311,
     "metadata": {},
     "output_type": "execute_result"
    }
   ],
   "source": [
    "wnd.shape"
   ]
  },
  {
   "cell_type": "code",
   "execution_count": 325,
   "id": "03d08a95",
   "metadata": {},
   "outputs": [],
   "source": [
    "result = result.merge(wnd, on=\"GEOID\")"
   ]
  },
  {
   "attachments": {},
   "cell_type": "markdown",
   "id": "ba431bee",
   "metadata": {},
   "source": [
    "## Add confounders"
   ]
  },
  {
   "cell_type": "code",
   "execution_count": 313,
   "id": "8f1ec95c",
   "metadata": {},
   "outputs": [],
   "source": [
    "pop = pd.read_csv(\n",
    "    \"data/esri/crosswalk/FIPSMapping_gdb_censustract_2020_ca.csv.csv\",\n",
    "    usecols=[\"FIPS\", \"POPULATION_2020\", \"POP20_SQMI\"],\n",
    ")"
   ]
  },
  {
   "cell_type": "code",
   "execution_count": 314,
   "id": "e6b10d1b",
   "metadata": {},
   "outputs": [],
   "source": [
    "svi = pd.read_csv(\n",
    "    \"../data/svi_california.csv\",\n",
    "    usecols=[\n",
    "        \"GEOID\",\n",
    "        \"EP_POV150\",\n",
    "        \"EP_UNEMP\",\n",
    "        \"EP_UNINSUR\",\n",
    "        \"EP_AGE65\",\n",
    "        \"EP_AGE17\",\n",
    "        \"EP_LIMENG\",\n",
    "        \"EP_MINRTY\",\n",
    "        \"RPL_THEMES\",\n",
    "        \"E_NOINT\",\n",
    "    ],\n",
    "    dtype={\"GEOID\": str},\n",
    ")"
   ]
  },
  {
   "cell_type": "code",
   "execution_count": 315,
   "id": "70aac8b8",
   "metadata": {},
   "outputs": [],
   "source": [
    "svi[\"GEOID_\"] = svi[\"GEOID\"].astype(int)"
   ]
  },
  {
   "cell_type": "code",
   "execution_count": 316,
   "id": "42d63ec6",
   "metadata": {},
   "outputs": [],
   "source": [
    "# exclude NaNs\n",
    "svi = svi[svi[\"RPL_THEMES\"] > -1]"
   ]
  },
  {
   "cell_type": "code",
   "execution_count": 326,
   "id": "9667ab1b",
   "metadata": {},
   "outputs": [],
   "source": [
    "result = result.merge(pop, left_on=\"GEOID\", right_on=\"FIPS\")"
   ]
  },
  {
   "cell_type": "code",
   "execution_count": 327,
   "id": "cd843649",
   "metadata": {},
   "outputs": [],
   "source": [
    "result = result.merge(svi, left_on=\"GEOID\", right_on=\"GEOID_\")"
   ]
  },
  {
   "cell_type": "code",
   "execution_count": 330,
   "id": "e7bebc43",
   "metadata": {},
   "outputs": [],
   "source": [
    "result = result.drop(\n",
    "    columns=[\n",
    "        \"GEOID_x\",\n",
    "        \"GEOID_\",\n",
    "        \"FIPS\",\n",
    "    ]\n",
    ")\n",
    "result = result.rename(columns={\"GEOID_y\": \"GEOID\"})"
   ]
  },
  {
   "cell_type": "code",
   "execution_count": 334,
   "id": "2a08f35b",
   "metadata": {},
   "outputs": [],
   "source": [
    "result = result.set_index(\"GEOID\")"
   ]
  },
  {
   "cell_type": "code",
   "execution_count": 335,
   "id": "c403267f-e81f-4fb2-b403-90aa98069430",
   "metadata": {
    "tags": []
   },
   "outputs": [],
   "source": [
    "result.to_csv(\"../data/climate_exposure_ca_2020.csv\")"
   ]
  }
 ],
 "metadata": {
  "kernelspec": {
   "display_name": "space",
   "language": "python",
   "name": "python3"
  },
  "language_info": {
   "codemirror_mode": {
    "name": "ipython",
    "version": 3
   },
   "file_extension": ".py",
   "mimetype": "text/x-python",
   "name": "python",
   "nbconvert_exporter": "python",
   "pygments_lexer": "ipython3",
   "version": "3.10.8"
  }
 },
 "nbformat": 4,
 "nbformat_minor": 5
}
