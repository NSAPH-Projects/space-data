{
 "cells": [
  {
   "cell_type": "markdown",
   "id": "9ddfef3b-b536-40b2-be8b-9c188de42965",
   "metadata": {},
   "source": [
    "# Make data dictionaries"
   ]
  },
  {
   "cell_type": "code",
   "execution_count": 1,
   "id": "862cad84-4e2a-4363-a62c-1120fccce313",
   "metadata": {},
   "outputs": [],
   "source": [
    "import sys\n",
    "import utils\n",
    "import pandas as pd\n",
    "import seaborn as sns\n",
    "import matplotlib.pyplot as plt\n",
    "\n",
    "%load_ext autoreload\n",
    "%autoreload 2"
   ]
  },
  {
   "cell_type": "code",
   "execution_count": 3,
   "id": "60e6d441-c1e5-43d2-b727-435cca39e8ce",
   "metadata": {
    "tags": []
   },
   "outputs": [],
   "source": [
    "def make_corr_plots(df, figname):\n",
    "    corr = df.corr()\n",
    "    # Set up the matplotlib figure\n",
    "    f, ax = plt.subplots(figsize=(11, 10))\n",
    "    fig = sns.heatmap(corr, ax=ax)\n",
    "    f.tight_layout()\n",
    "\n",
    "    fig.get_figure().savefig(\"../data/\" + figname)"
   ]
  },
  {
   "cell_type": "code",
   "execution_count": 4,
   "id": "e9a918aa-22f0-48f0-bf2b-42961803c226",
   "metadata": {
    "tags": []
   },
   "outputs": [],
   "source": [
    "def get_df_overview(df, basename, overview):\n",
    "    pd_overview = overview_temp.format(\n",
    "        len(df.columns),\n",
    "        len(df),\n",
    "        df.isna().any(axis=1).sum(),\n",
    "        df.isna().any(axis=1).sum() / len(df) * 100,\n",
    "        df.duplicated().sum(),\n",
    "        df.duplicated().sum() / len(df) * 100,\n",
    "        round(df.memory_usage(deep=True).sum() / (1024**2), 5),\n",
    "    )\n",
    "\n",
    "    lines = pd_overview.strip().split(\"\\n\")\n",
    "\n",
    "    # Parse each line into a key-value pair\n",
    "    for line in lines:\n",
    "        key, value = line.strip().split(\":\", 1)\n",
    "        key = key.strip(\"' \")  # remove leading/trailing whitespace and single quotes\n",
    "        value = value.strip(\n",
    "            \"' ,\"\n",
    "        )  # remove leading/trailing whitespace, single quotes and comma\n",
    "        overview[key] = value\n",
    "    return overview"
   ]
  },
  {
   "cell_type": "code",
   "execution_count": 5,
   "id": "9f6bda43-f855-4d8e-a54e-e472c431e46c",
   "metadata": {
    "tags": []
   },
   "outputs": [],
   "source": [
    "def get_data_dict(var_list):\n",
    "    data_dict_str = [\n",
    "        \"| Variable Name | Description |\",\n",
    "        \"| ------------- | ----------- |\",\n",
    "    ]\n",
    "    for key, value in var_list:\n",
    "        data_dict_str.append(f\"| `{key}` | {value} |\")\n",
    "    return data_dict_str"
   ]
  },
  {
   "cell_type": "code",
   "execution_count": 6,
   "id": "975f8172-51e3-4f90-aa21-c56df9f5d34a",
   "metadata": {
    "tags": []
   },
   "outputs": [],
   "source": [
    "data_dict = utils.data_dict\n",
    "overview_temp = utils.overview_temp\n",
    "data_dict_temp = utils.data_dict_temp"
   ]
  },
  {
   "cell_type": "code",
   "execution_count": null,
   "id": "b5bcc909-b4c9-4564-b638-1648c86180bc",
   "metadata": {
    "tags": []
   },
   "outputs": [],
   "source": [
    "for base_name in data_dict.keys():\n",
    "    data_dict_str = get_data_dict(data_dict[base_name][\"var_list\"].items())\n",
    "\n",
    "    df = pd.read_csv(f\"../{ data_dict[base_name]['data_path'] }\")\n",
    "\n",
    "    overview = get_df_overview(df, base_name, data_dict[base_name][\"overview\"])\n",
    "\n",
    "    figname = f\"figs/corr_{base_name}.png\"\n",
    "    make_corr_plots(df, figname)\n",
    "    data_dict_md = data_dict_temp.format(\n",
    "        pd.DataFrame(\n",
    "            overview.items(),\n",
    "            columns=[\"Properties\", \"Value\"],\n",
    "        ).to_markdown(index=False),\n",
    "        \"\\n\".join(data_dict_str),\n",
    "        figname,\n",
    "        df.head().to_markdown(index=False),\n",
    "    )\n",
    "\n",
    "    with open(\"../data/dataset_{}.md\".format(base_name), \"w\") as f:\n",
    "        f.write(data_dict_md)"
   ]
  },
  {
   "cell_type": "code",
   "execution_count": null,
   "id": "89952bee-11e9-4ae2-a6dd-31a220ac87fb",
   "metadata": {},
   "outputs": [],
   "source": []
  },
  {
   "cell_type": "code",
   "execution_count": null,
   "id": "33a58afc-4952-49c2-b9ca-6e113396ff13",
   "metadata": {},
   "outputs": [],
   "source": []
  }
 ],
 "metadata": {
  "kernelspec": {
   "display_name": "Python 3 (ipykernel)",
   "language": "python",
   "name": "python3"
  },
  "language_info": {
   "codemirror_mode": {
    "name": "ipython",
    "version": 3
   },
   "file_extension": ".py",
   "mimetype": "text/x-python",
   "name": "python",
   "nbconvert_exporter": "python",
   "pygments_lexer": "ipython3",
   "version": "3.10.8"
  }
 },
 "nbformat": 4,
 "nbformat_minor": 5
}
