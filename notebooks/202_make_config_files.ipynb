{
 "cells": [
  {
   "cell_type": "markdown",
   "id": "adf3917f-37f8-448f-8432-389f0b466a2f",
   "metadata": {},
   "source": [
    "# Make config files "
   ]
  },
  {
   "cell_type": "code",
   "execution_count": 1,
   "id": "8d93fbe8-7893-4d96-8234-80ad5b20a141",
   "metadata": {},
   "outputs": [],
   "source": [
    "import utils"
   ]
  },
  {
   "cell_type": "code",
   "execution_count": 2,
   "id": "537ad87b-3b75-4185-aebd-8848b9553393",
   "metadata": {
    "tags": []
   },
   "outputs": [],
   "source": [
    "data_dict = utils.data_dict\n",
    "config_temp = utils.config_temp\n",
    "py_comnd_temp = \"python train.py data={}\"\n",
    "py_comnd_list = []"
   ]
  },
  {
   "cell_type": "code",
   "execution_count": 3,
   "id": "fa59f3c9-667e-4f78-8695-cbfa5fa39310",
   "metadata": {},
   "outputs": [
    {
     "name": "stdout",
     "output_type": "stream",
     "text": [
      "cdc_atsdr_svi_tx\n",
      "climate_exposure_ca\n",
      "air_pollution_mortality_us\n",
      "election_us\n"
     ]
    }
   ],
   "source": [
    "for base_name in data_dict.keys():\n",
    "    print(base_name)\n",
    "    for treatment in data_dict[base_name][\"primary\"]:\n",
    "        outcome = data_dict[base_name][\"primary\"][treatment]\n",
    "        data_path = data_dict[base_name][\"data_path\"]\n",
    "        graph_path = data_dict[base_name][\"graph_path\"]\n",
    "\n",
    "        conf_file = config_temp.format(\n",
    "            base_name, data_path, graph_path, outcome, treatment\n",
    "        )\n",
    "        # print(conf_file)\n",
    "        conf_file_name = \"{}_{}_{}\".format(\n",
    "            base_name, treatment, outcome\n",
    "        ).lower()\n",
    "        \n",
    "        py_comnd = py_comnd_temp.format(conf_file_name)\n",
    "        py_comnd_list.append(py_comnd)\n",
    "\n",
    "        with open(\"../conf/data/{}.yaml\".format(conf_file_name), \"w\") as f:\n",
    "            f.write(conf_file)"
   ]
  },
  {
   "cell_type": "code",
   "execution_count": 4,
   "id": "8b4a8d63-5821-46c3-b82f-6c1a8f4e41d5",
   "metadata": {
    "tags": []
   },
   "outputs": [],
   "source": [
    "with open(\"../train_with_all_configs.sh\", \"w\") as f:\n",
    "    f.write(\"\\n\".join(py_comnd_list))"
   ]
  },
  {
   "cell_type": "code",
   "execution_count": null,
   "id": "01b0e820-ca40-4a7d-804f-52a931a36d2e",
   "metadata": {},
   "outputs": [],
   "source": []
  }
 ],
 "metadata": {
  "kernelspec": {
   "display_name": "Python 3 (ipykernel)",
   "language": "python",
   "name": "python3"
  },
  "language_info": {
   "codemirror_mode": {
    "name": "ipython",
    "version": 3
   },
   "file_extension": ".py",
   "mimetype": "text/x-python",
   "name": "python",
   "nbconvert_exporter": "python",
   "pygments_lexer": "ipython3",
   "version": "3.10.8"
  }
 },
 "nbformat": 4,
 "nbformat_minor": 5
}
