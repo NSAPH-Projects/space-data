{
 "cells": [
  {
   "cell_type": "markdown",
   "id": "b9434687-fcf6-4de8-9b8d-52f732631669",
   "metadata": {},
   "source": [
    "# County Election Data\n",
    "\n",
    "- Contains a variaty of county-level variables from [here](https://github.com/evangambit/JsonOfCounties)"
   ]
  },
  {
   "cell_type": "code",
   "execution_count": 2,
   "id": "e3ac456b-bfbf-4329-a381-21fd3b299d57",
   "metadata": {
    "tags": []
   },
   "outputs": [],
   "source": [
    "import numpy as np\n",
    "import pandas as pd\n",
    "import geopandas as gpd\n",
    "\n",
    "cols = [ \"fips\", \"noaa/prcp\", \"noaa/snow\", \"noaa/temp\", \"noaa/altitude\", \"noaa/temp-jan\", \"noaa/temp-apr\", \"noaa/temp-jul\", \"noaa/temp-oct\", \"race/non_hispanic_white_alone_male\", \"race/non_hispanic_white_alone_female\", \"race/black_alone_male\", \"race/black_alone_female\", \"race/asian_alone_male\", \"race/asian_alone_female\", \"race/hispanic_male\", \"race/hispanic_female\", \"age/0-4\", \"age/5-9\", \"age/10-14\", \"age/15-19\", \"age/20-24\", \"age/25-29\", \"age/30-34\", \"age/35-39\", \"age/40-44\", \"age/45-49\", \"age/50-54\", \"age/55-59\", \"age/60-64\", \"age/65-69\", \"age/70-74\", \"age/75-79\", \"age/80-84\", \"age/85+\", \"male\", \"female\", \"population/2019\", \"deaths/suicides\", \"deaths/firearm suicides\", \"deaths/homicides\", \"deaths/vehicle\", \"bls/2020/labor_force\", \"bls/2020/employed\", \"bls/2020/unemployed\", \"life-expectancy\", \"fatal_police_shootings/total-2020\", \"fatal_police_shootings/unarmed-2020\", \"fatal_police_shootings/firearmed-2020\", \"police_deaths\", \"avg_income\", \"elections/2020/total\", \"elections/2020/dem\", \"elections/2020/gop\", \"edu/less-than-high-school\", \"edu/high-school\", \"edu/some-college\", \"edu/bachelors+\", \"poverty-rate\", \"cost-of-living/living_wage\", \"cost-of-living/food_costs\", \"cost-of-living/medical_costs\", \"cost-of-living/housing_costs\", \"cost-of-living/tax_costs\", \"health/% Fair or Poor Health\", \"health/% Low birthweight\", \"health/% Smokers\", \"health/% Adults with Obesity\", \"health/% Physically Inactive\", \"health/% Children in Poverty\", \"health/80th Percentile Income\", \"health/20th Percentile Income\"]"
   ]
  },
  {
   "cell_type": "code",
   "execution_count": 3,
   "id": "f9608abd-2746-4b7f-806c-8b7241c9623b",
   "metadata": {
    "tags": []
   },
   "outputs": [],
   "source": [
    "df = pd.read_csv(\"data/counties.csv\", usecols=cols, dtype={\"fips\":str})"
   ]
  },
  {
   "cell_type": "code",
   "execution_count": 4,
   "id": "e4f50444-8430-45ae-99cd-011580bab011",
   "metadata": {
    "tags": []
   },
   "outputs": [
    {
     "data": {
      "text/plain": [
       "72"
      ]
     },
     "execution_count": 4,
     "metadata": {},
     "output_type": "execute_result"
    }
   ],
   "source": [
    "len(df.columns)"
   ]
  },
  {
   "cell_type": "code",
   "execution_count": 5,
   "id": "989a81f3-792b-46ba-8ca7-a8ea2014004d",
   "metadata": {
    "tags": []
   },
   "outputs": [],
   "source": [
    "df['age-to-25'] = df[['age/0-4', 'age/5-9', 'age/10-14', 'age/15-19', 'age/20-24']].sum(axis=1)\n",
    "df['age-25-65'] = df[['age/25-29', 'age/30-34', 'age/35-39', 'age/40-44', 'age/45-49', 'age/50-54', 'age/55-59', 'age/60-64']].sum(axis=1)\n",
    "df['age-over-65'] = df[['age/65-69', 'age/70-74', 'age/75-79', 'age/80-84', 'age/85+']].sum(axis=1)"
   ]
  },
  {
   "cell_type": "code",
   "execution_count": 6,
   "id": "a82ea67b-2418-4477-a498-c93f5492d1cb",
   "metadata": {
    "tags": []
   },
   "outputs": [],
   "source": [
    "df['white'] = df[['race/non_hispanic_white_alone_male', 'race/non_hispanic_white_alone_female']].sum(axis=1)\n",
    "df['black'] = df[['race/black_alone_male', 'race/black_alone_female']].sum(axis=1)\n",
    "df['asian'] = df[['race/asian_alone_male', 'race/asian_alone_female']].sum(axis=1)\n",
    "df['hispanic'] = df[['race/hispanic_male', 'race/hispanic_female']].sum(axis=1)"
   ]
  },
  {
   "cell_type": "code",
   "execution_count": 7,
   "id": "9c11962a-7dce-443d-a1aa-253eabd79fd2",
   "metadata": {
    "tags": []
   },
   "outputs": [],
   "source": [
    "df['percentage_dem'] = (df['elections/2020/dem'] / df['elections/2020/total']) * 100"
   ]
  },
  {
   "cell_type": "code",
   "execution_count": 8,
   "id": "db3ef6dd-f965-4e76-8753-29857c75013c",
   "metadata": {
    "tags": []
   },
   "outputs": [],
   "source": [
    "df = df.drop(columns=[\"race/non_hispanic_white_alone_male\", \"race/non_hispanic_white_alone_female\", \"race/black_alone_male\", \"race/black_alone_female\", \"race/asian_alone_male\", \"race/asian_alone_female\", \"race/hispanic_male\", \"race/hispanic_female\", \"age/0-4\", \"age/5-9\", \"age/10-14\", \"age/15-19\", \"age/20-24\", \"age/25-29\", \"age/30-34\", \"age/35-39\", \"age/40-44\", \"age/45-49\", \"age/50-54\", \"age/55-59\", \"age/60-64\", \"age/65-69\", \"age/70-74\", \"age/75-79\", \"age/80-84\", \"age/85+\", 'health/% Low birthweight', 'deaths/firearm suicides', 'fatal_police_shootings/firearmed-2020', \"elections/2020/total\", \"elections/2020/dem\", \"elections/2020/gop\"])"
   ]
  },
  {
   "cell_type": "code",
   "execution_count": 9,
   "id": "de531be7-dfc4-42a1-bf55-b4e8ab70d718",
   "metadata": {
    "tags": []
   },
   "outputs": [],
   "source": [
    "column_mapping = {'edu/less-than-high-school':\"cs_ed_below_highschool\", 'edu/high-school':\"cs_ed_highschool\", 'edu/some-college':\"cs_ed_some_college\", 'edu/bachelors+':\"cs_ed_above_college\", 'cost-of-living/living_wage':'bls_living_wage', 'cost-of-living/food_costs':'bls_food_costs', 'cost-of-living/medical_costs':'bls_medical_costs', 'cost-of-living/housing_costs':'bls_housing_costs', 'cost-of-living/tax_costs':'bls_tax_costs', 'health/% Fair or Poor Health':'health_poor_health_pct', 'health/% Smokers':'health_smokers_pct', 'health/% Adults with Obesity':'health_obese_pct', 'health/% Physically Inactive':'health_phy_inactive_pct', 'health/% Children in Poverty':'health_children_poverty_pct', 'health/80th Percentile Income':'health_80th_perc_income_pct', 'health/20th Percentile Income':'health_20th_perc_income_pct', 'bls/2020/labor_force': 'bls_labor_force', 'bls/2020/employed': 'bls_employed', 'bls/2020/unemployed': 'bls_unemployed', 'noaa/prcp': 'noaa_prcp', 'noaa/snow': 'noaa_snow', 'noaa/temp': 'noaa_temp', 'noaa/altitude': 'noaa_altitude', 'noaa/temp-jan': 'noaa_temp_jan', 'noaa/temp-apr': 'noaa_temp_apr', 'noaa/temp-jul': 'noaa_temp_jul', 'noaa/temp-oct': 'noaa_temp_oct', 'male':'cs_male', 'female':'cs_female', 'population':'cs_population', 'white':'cs_white', 'black':'cs_black', 'asian':'cs_asian', 'hispanic':'cs_hispanic', 'age-to-25':'cs_age-to-25', 'age-25-65':'cs_age-25-65', 'age-over-65':'cs_age-over-65', 'percentage_dem':'election_dem_pct', 'deaths/suicides':\"cdc_suicides\", 'deaths/homicides':\"cdc_homicides\", 'deaths/vehicle':\"cdc_vehicle_deaths\", 'fatal_police_shootings/unarmed-2020':\"cdc_police_deaths_unarmed\", 'fatal_police_shootings/total-2020':\"cdc_police_deaths_total\"}"
   ]
  },
  {
   "cell_type": "code",
   "execution_count": 10,
   "id": "7ca68e0b-339a-4c88-99cc-def448cfe5e4",
   "metadata": {
    "tags": []
   },
   "outputs": [],
   "source": [
    "df = df.rename(columns=column_mapping)"
   ]
  },
  {
   "cell_type": "code",
   "execution_count": 11,
   "id": "bcf7fdd3-b236-4ee1-8c21-75379ba40a7c",
   "metadata": {
    "tags": []
   },
   "outputs": [
    {
     "data": {
      "text/plain": [
       "3142"
      ]
     },
     "execution_count": 11,
     "metadata": {},
     "output_type": "execute_result"
    }
   ],
   "source": [
    "len(df)"
   ]
  },
  {
   "cell_type": "code",
   "execution_count": 12,
   "id": "b6cb2292-0249-4c83-8554-e478f9e99003",
   "metadata": {
    "tags": []
   },
   "outputs": [
    {
     "data": {
      "text/plain": [
       "Index(['fips', 'noaa_prcp', 'noaa_snow', 'noaa_temp', 'noaa_altitude',\n",
       "       'noaa_temp_jan', 'noaa_temp_apr', 'noaa_temp_jul', 'noaa_temp_oct',\n",
       "       'cs_male', 'cs_female', 'population/2019', 'cdc_suicides',\n",
       "       'cdc_homicides', 'cdc_vehicle_deaths', 'bls_labor_force',\n",
       "       'bls_employed', 'bls_unemployed', 'life-expectancy',\n",
       "       'cdc_police_deaths_total', 'cdc_police_deaths_unarmed', 'police_deaths',\n",
       "       'avg_income', 'cs_ed_below_highschool', 'cs_ed_highschool',\n",
       "       'cs_ed_some_college', 'cs_ed_above_college', 'poverty-rate',\n",
       "       'bls_living_wage', 'bls_food_costs', 'bls_medical_costs',\n",
       "       'bls_housing_costs', 'bls_tax_costs', 'health_poor_health_pct',\n",
       "       'health_smokers_pct', 'health_obese_pct', 'health_phy_inactive_pct',\n",
       "       'health_children_poverty_pct', 'health_80th_perc_income_pct',\n",
       "       'health_20th_perc_income_pct', 'cs_age-to-25', 'cs_age-25-65',\n",
       "       'cs_age-over-65', 'cs_white', 'cs_black', 'cs_asian', 'cs_hispanic',\n",
       "       'election_dem_pct'],\n",
       "      dtype='object')"
      ]
     },
     "execution_count": 12,
     "metadata": {},
     "output_type": "execute_result"
    }
   ],
   "source": [
    "df.columns"
   ]
  },
  {
   "cell_type": "code",
   "execution_count": 13,
   "id": "2afd0fd2-3150-419f-abde-324b33fd8766",
   "metadata": {
    "tags": []
   },
   "outputs": [],
   "source": [
    "df.to_csv(\"data/counties_election.csv\", index=False)"
   ]
  },
  {
   "cell_type": "code",
   "execution_count": null,
   "id": "5654f5c8-7a25-4c26-b287-2c42e33641f1",
   "metadata": {},
   "outputs": [],
   "source": []
  }
 ],
 "metadata": {
  "kernelspec": {
   "display_name": "Python 3 (ipykernel)",
   "language": "python",
   "name": "python3"
  },
  "language_info": {
   "codemirror_mode": {
    "name": "ipython",
    "version": 3
   },
   "file_extension": ".py",
   "mimetype": "text/x-python",
   "name": "python",
   "nbconvert_exporter": "python",
   "pygments_lexer": "ipython3",
   "version": "3.10.8"
  }
 },
 "nbformat": 4,
 "nbformat_minor": 5
}
